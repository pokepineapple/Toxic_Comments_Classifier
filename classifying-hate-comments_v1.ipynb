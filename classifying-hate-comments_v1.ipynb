{
 "cells": [
  {
   "cell_type": "markdown",
   "metadata": {
    "_cell_guid": "b1076dfc-b9ad-4769-8c92-a6c4dae69d19",
    "_uuid": "8f2839f25d086af736a60e9eeb907d3b93b6e0e5"
   },
   "source": [
    "# Read and Explore Data"
   ]
  },
  {
   "cell_type": "code",
   "execution_count": 1,
   "metadata": {
    "execution": {
     "iopub.execute_input": "2023-03-23T00:01:39.779327Z",
     "iopub.status.busy": "2023-03-23T00:01:39.778600Z",
     "iopub.status.idle": "2023-03-23T00:01:41.254370Z",
     "shell.execute_reply": "2023-03-23T00:01:41.252759Z",
     "shell.execute_reply.started": "2023-03-23T00:01:39.779263Z"
    }
   },
   "outputs": [
    {
     "name": "stdout",
     "output_type": "stream",
     "text": [
      "Python version: 3.9.13 (main, Aug 25 2022, 23:51:50) [MSC v.1916 64 bit (AMD64)]\n",
      "Version info.: sys.version_info(major=3, minor=9, micro=13, releaselevel='final', serial=0)\n",
      "pandas version: 1.4.4\n",
      "numpy version: 1.23.5\n",
      "skearn version: 1.2.2\n",
      "re version: 2.2.1\n",
      "nltk version: 3.7\n"
     ]
    }
   ],
   "source": [
    "import os\n",
    "import sys\n",
    "import warnings\n",
    "if not sys.warnoptions:\n",
    "    warnings.simplefilter(\"ignore\")\n",
    "    \n",
    "import numpy as np\n",
    "import pandas as pd\n",
    "import sklearn\n",
    "import matplotlib.pyplot as plt\n",
    "# Libraries and packages for text (pre-)processing \n",
    "import string\n",
    "import re\n",
    "import nltk\n",
    "\n",
    "print(\"Python version:\", sys.version)\n",
    "print(\"Version info.:\", sys.version_info)\n",
    "print(\"pandas version:\", pd.__version__)\n",
    "print(\"numpy version:\", np.__version__)\n",
    "print(\"skearn version:\", sklearn.__version__)\n",
    "print(\"re version:\", re.__version__)\n",
    "print(\"nltk version:\", nltk.__version__)\n",
    "\n",
    "for dirname, _, filenames in os.walk('/kaggle/input'):\n",
    "    for filename in filenames:\n",
    "        print(os.path.join(dirname, filename))"
   ]
  },
  {
   "cell_type": "markdown",
   "metadata": {},
   "source": [
    "# Read Data"
   ]
  },
  {
   "cell_type": "code",
   "execution_count": 2,
   "metadata": {
    "execution": {
     "iopub.execute_input": "2023-03-23T00:02:31.342747Z",
     "iopub.status.busy": "2023-03-23T00:02:31.342202Z",
     "iopub.status.idle": "2023-03-23T00:02:33.739980Z",
     "shell.execute_reply": "2023-03-23T00:02:33.738330Z",
     "shell.execute_reply.started": "2023-03-23T00:02:31.342675Z"
    }
   },
   "outputs": [
    {
     "data": {
      "text/plain": [
       "(159571, 8)"
      ]
     },
     "metadata": {},
     "output_type": "display_data"
    },
    {
     "data": {
      "text/html": [
       "<div>\n",
       "<style scoped>\n",
       "    .dataframe tbody tr th:only-of-type {\n",
       "        vertical-align: middle;\n",
       "    }\n",
       "\n",
       "    .dataframe tbody tr th {\n",
       "        vertical-align: top;\n",
       "    }\n",
       "\n",
       "    .dataframe thead th {\n",
       "        text-align: right;\n",
       "    }\n",
       "</style>\n",
       "<table border=\"1\" class=\"dataframe\">\n",
       "  <thead>\n",
       "    <tr style=\"text-align: right;\">\n",
       "      <th></th>\n",
       "      <th>id</th>\n",
       "      <th>comment_text</th>\n",
       "      <th>toxic</th>\n",
       "      <th>severe_toxic</th>\n",
       "      <th>obscene</th>\n",
       "      <th>threat</th>\n",
       "      <th>insult</th>\n",
       "      <th>identity_hate</th>\n",
       "    </tr>\n",
       "  </thead>\n",
       "  <tbody>\n",
       "    <tr>\n",
       "      <th>0</th>\n",
       "      <td>0000997932d777bf</td>\n",
       "      <td>Explanation\\nWhy the edits made under my usern...</td>\n",
       "      <td>0</td>\n",
       "      <td>0</td>\n",
       "      <td>0</td>\n",
       "      <td>0</td>\n",
       "      <td>0</td>\n",
       "      <td>0</td>\n",
       "    </tr>\n",
       "    <tr>\n",
       "      <th>1</th>\n",
       "      <td>000103f0d9cfb60f</td>\n",
       "      <td>D'aww! He matches this background colour I'm s...</td>\n",
       "      <td>0</td>\n",
       "      <td>0</td>\n",
       "      <td>0</td>\n",
       "      <td>0</td>\n",
       "      <td>0</td>\n",
       "      <td>0</td>\n",
       "    </tr>\n",
       "    <tr>\n",
       "      <th>2</th>\n",
       "      <td>000113f07ec002fd</td>\n",
       "      <td>Hey man, I'm really not trying to edit war. It...</td>\n",
       "      <td>0</td>\n",
       "      <td>0</td>\n",
       "      <td>0</td>\n",
       "      <td>0</td>\n",
       "      <td>0</td>\n",
       "      <td>0</td>\n",
       "    </tr>\n",
       "    <tr>\n",
       "      <th>3</th>\n",
       "      <td>0001b41b1c6bb37e</td>\n",
       "      <td>\"\\nMore\\nI can't make any real suggestions on ...</td>\n",
       "      <td>0</td>\n",
       "      <td>0</td>\n",
       "      <td>0</td>\n",
       "      <td>0</td>\n",
       "      <td>0</td>\n",
       "      <td>0</td>\n",
       "    </tr>\n",
       "    <tr>\n",
       "      <th>4</th>\n",
       "      <td>0001d958c54c6e35</td>\n",
       "      <td>You, sir, are my hero. Any chance you remember...</td>\n",
       "      <td>0</td>\n",
       "      <td>0</td>\n",
       "      <td>0</td>\n",
       "      <td>0</td>\n",
       "      <td>0</td>\n",
       "      <td>0</td>\n",
       "    </tr>\n",
       "  </tbody>\n",
       "</table>\n",
       "</div>"
      ],
      "text/plain": [
       "                 id                                       comment_text  toxic  \\\n",
       "0  0000997932d777bf  Explanation\\nWhy the edits made under my usern...      0   \n",
       "1  000103f0d9cfb60f  D'aww! He matches this background colour I'm s...      0   \n",
       "2  000113f07ec002fd  Hey man, I'm really not trying to edit war. It...      0   \n",
       "3  0001b41b1c6bb37e  \"\\nMore\\nI can't make any real suggestions on ...      0   \n",
       "4  0001d958c54c6e35  You, sir, are my hero. Any chance you remember...      0   \n",
       "\n",
       "   severe_toxic  obscene  threat  insult  identity_hate  \n",
       "0             0        0       0       0              0  \n",
       "1             0        0       0       0              0  \n",
       "2             0        0       0       0              0  \n",
       "3             0        0       0       0              0  \n",
       "4             0        0       0       0              0  "
      ]
     },
     "metadata": {},
     "output_type": "display_data"
    }
   ],
   "source": [
    "# read the csv file\n",
    "train_df = pd.read_csv(r'C:\\Users\\Pokie\\Documents\\Grad_School\\273P_ML_Project\\train.csv')\n",
    "display(train_df.shape, train_df.head())"
   ]
  },
  {
   "cell_type": "markdown",
   "metadata": {},
   "source": [
    "## Data Exploration\n",
    "Checking how many comments are classified in the train.csv file"
   ]
  },
  {
   "cell_type": "code",
   "execution_count": 3,
   "metadata": {},
   "outputs": [],
   "source": [
    "df = train_df.copy()\n",
    "categorywise_data = df.drop(['id', 'comment_text'], axis=1)     \n",
    "### Removed unnecessary columns - id and comment_text\n",
    "counts_category = []                                               \n",
    "### A list that contains tuple which consists of class label and number of comments for that particular class \n",
    "categories = list(categorywise_data.columns.values)\n",
    "for i in categories:\n",
    "    counts_category.append((i, categorywise_data[i].sum()))\n",
    "    \n",
    "df = pd.DataFrame(counts_category, columns=['Labels', 'number_of_comments'])"
   ]
  },
  {
   "cell_type": "code",
   "execution_count": 4,
   "metadata": {},
   "outputs": [
    {
     "data": {
      "text/plain": [
       "Text(0.5, 0, 'Labels')"
      ]
     },
     "execution_count": 4,
     "metadata": {},
     "output_type": "execute_result"
    },
    {
     "data": {
      "image/png": "[encoded data removed]",
      "text/plain": [
       "<Figure size 800x800 with 1 Axes>"
      ]
     },
     "metadata": {},
     "output_type": "display_data"
    }
   ],
   "source": [
    "df.plot(x='Labels', y='number_of_comments', kind='bar',figsize=(8,8))\n",
    "plt.title(\"Number of comments per category\")\n",
    "plt.ylabel('No. of Occurrences', fontsize=12)\n",
    "plt.xlabel('Labels', fontsize=12)"
   ]
  },
  {
   "cell_type": "markdown",
   "metadata": {},
   "source": [
    "# Clean Data\n",
    "\n",
    "\n",
    "### 1. Remove Capitalization\n",
    "\n",
    "Because of the variety of capitalization used to construct a sentence, capitalization or lower case is the strategy used in text cleaning most frequently. With this method, every word in the text and document will be projected into the same feature area. If mistakes, slang, acronyms, or informal abbreviations were to be replaced, the issue would only arise in rare instances like the USA or the UK."
   ]
  },
  {
   "cell_type": "code",
   "execution_count": 5,
   "metadata": {
    "execution": {
     "iopub.execute_input": "2023-03-23T00:04:53.514343Z",
     "iopub.status.busy": "2023-03-23T00:04:53.513647Z",
     "iopub.status.idle": "2023-03-23T00:04:53.804516Z",
     "shell.execute_reply": "2023-03-23T00:04:53.803306Z",
     "shell.execute_reply.started": "2023-03-23T00:04:53.514304Z"
    }
   },
   "outputs": [
    {
     "data": {
      "text/html": [
       "<div>\n",
       "<style scoped>\n",
       "    .dataframe tbody tr th:only-of-type {\n",
       "        vertical-align: middle;\n",
       "    }\n",
       "\n",
       "    .dataframe tbody tr th {\n",
       "        vertical-align: top;\n",
       "    }\n",
       "\n",
       "    .dataframe thead th {\n",
       "        text-align: right;\n",
       "    }\n",
       "</style>\n",
       "<table border=\"1\" class=\"dataframe\">\n",
       "  <thead>\n",
       "    <tr style=\"text-align: right;\">\n",
       "      <th></th>\n",
       "      <th>id</th>\n",
       "      <th>comment_text</th>\n",
       "      <th>toxic</th>\n",
       "      <th>severe_toxic</th>\n",
       "      <th>obscene</th>\n",
       "      <th>threat</th>\n",
       "      <th>insult</th>\n",
       "      <th>identity_hate</th>\n",
       "      <th>text_clean</th>\n",
       "    </tr>\n",
       "  </thead>\n",
       "  <tbody>\n",
       "    <tr>\n",
       "      <th>0</th>\n",
       "      <td>0000997932d777bf</td>\n",
       "      <td>Explanation\\nWhy the edits made under my usern...</td>\n",
       "      <td>0</td>\n",
       "      <td>0</td>\n",
       "      <td>0</td>\n",
       "      <td>0</td>\n",
       "      <td>0</td>\n",
       "      <td>0</td>\n",
       "      <td>explanation\\nwhy the edits made under my usern...</td>\n",
       "    </tr>\n",
       "    <tr>\n",
       "      <th>1</th>\n",
       "      <td>000103f0d9cfb60f</td>\n",
       "      <td>D'aww! He matches this background colour I'm s...</td>\n",
       "      <td>0</td>\n",
       "      <td>0</td>\n",
       "      <td>0</td>\n",
       "      <td>0</td>\n",
       "      <td>0</td>\n",
       "      <td>0</td>\n",
       "      <td>d'aww! he matches this background colour i'm s...</td>\n",
       "    </tr>\n",
       "    <tr>\n",
       "      <th>2</th>\n",
       "      <td>000113f07ec002fd</td>\n",
       "      <td>Hey man, I'm really not trying to edit war. It...</td>\n",
       "      <td>0</td>\n",
       "      <td>0</td>\n",
       "      <td>0</td>\n",
       "      <td>0</td>\n",
       "      <td>0</td>\n",
       "      <td>0</td>\n",
       "      <td>hey man, i'm really not trying to edit war. it...</td>\n",
       "    </tr>\n",
       "    <tr>\n",
       "      <th>3</th>\n",
       "      <td>0001b41b1c6bb37e</td>\n",
       "      <td>\"\\nMore\\nI can't make any real suggestions on ...</td>\n",
       "      <td>0</td>\n",
       "      <td>0</td>\n",
       "      <td>0</td>\n",
       "      <td>0</td>\n",
       "      <td>0</td>\n",
       "      <td>0</td>\n",
       "      <td>\"\\nmore\\ni can't make any real suggestions on ...</td>\n",
       "    </tr>\n",
       "    <tr>\n",
       "      <th>4</th>\n",
       "      <td>0001d958c54c6e35</td>\n",
       "      <td>You, sir, are my hero. Any chance you remember...</td>\n",
       "      <td>0</td>\n",
       "      <td>0</td>\n",
       "      <td>0</td>\n",
       "      <td>0</td>\n",
       "      <td>0</td>\n",
       "      <td>0</td>\n",
       "      <td>you, sir, are my hero. any chance you remember...</td>\n",
       "    </tr>\n",
       "  </tbody>\n",
       "</table>\n",
       "</div>"
      ],
      "text/plain": [
       "                 id                                       comment_text  toxic  \\\n",
       "0  0000997932d777bf  Explanation\\nWhy the edits made under my usern...      0   \n",
       "1  000103f0d9cfb60f  D'aww! He matches this background colour I'm s...      0   \n",
       "2  000113f07ec002fd  Hey man, I'm really not trying to edit war. It...      0   \n",
       "3  0001b41b1c6bb37e  \"\\nMore\\nI can't make any real suggestions on ...      0   \n",
       "4  0001d958c54c6e35  You, sir, are my hero. Any chance you remember...      0   \n",
       "\n",
       "   severe_toxic  obscene  threat  insult  identity_hate  \\\n",
       "0             0        0       0       0              0   \n",
       "1             0        0       0       0              0   \n",
       "2             0        0       0       0              0   \n",
       "3             0        0       0       0              0   \n",
       "4             0        0       0       0              0   \n",
       "\n",
       "                                          text_clean  \n",
       "0  explanation\\nwhy the edits made under my usern...  \n",
       "1  d'aww! he matches this background colour i'm s...  \n",
       "2  hey man, i'm really not trying to edit war. it...  \n",
       "3  \"\\nmore\\ni can't make any real suggestions on ...  \n",
       "4  you, sir, are my hero. any chance you remember...  "
      ]
     },
     "metadata": {},
     "output_type": "display_data"
    }
   ],
   "source": [
    "train_df[\"text_clean\"] = train_df[\"comment_text\"].apply(lambda x: x.lower())\n",
    "display(train_df.head())"
   ]
  },
  {
   "cell_type": "markdown",
   "metadata": {},
   "source": [
    "### 2.Expanding Contractions\n",
    "\n",
    "Example of contraction: We'll -> We will, or we shoudn't've -> we should not have. By using Contractions package to expand contractions in English"
   ]
  },
  {
   "cell_type": "code",
   "execution_count": 6,
   "metadata": {
    "execution": {
     "iopub.execute_input": "2023-03-23T00:02:41.164122Z",
     "iopub.status.busy": "2023-03-23T00:02:41.163688Z",
     "iopub.status.idle": "2023-03-23T00:02:56.726324Z",
     "shell.execute_reply": "2023-03-23T00:02:56.724453Z",
     "shell.execute_reply.started": "2023-03-23T00:02:41.164087Z"
    }
   },
   "outputs": [],
   "source": [
    "#!pip install contractions"
   ]
  },
  {
   "cell_type": "code",
   "execution_count": 7,
   "metadata": {
    "execution": {
     "iopub.execute_input": "2023-03-23T00:05:01.108094Z",
     "iopub.status.busy": "2023-03-23T00:05:01.107627Z",
     "iopub.status.idle": "2023-03-23T00:05:07.095245Z",
     "shell.execute_reply": "2023-03-23T00:05:07.093690Z",
     "shell.execute_reply.started": "2023-03-23T00:05:01.108055Z"
    }
   },
   "outputs": [
    {
     "name": "stdout",
     "output_type": "stream",
     "text": [
      "Test:  \n",
      "            You all cannot expand contractions I would think. I would like to know how I would done that! \n",
      "            We are going to the zoo and I do not think I will be home for dinner.\n",
      "            They Are going to the zoo and she will be home for dinner.\n",
      "            We should have do it in here but we should not have eat it\n",
      "            \n"
     ]
    }
   ],
   "source": [
    "import contractions\n",
    "\n",
    "# Test\n",
    "test_text = \"\"\"\n",
    "            Y'all can't expand contractions I'd think. I'd like to know how I'd done that! \n",
    "            We're going to the zoo and I don't think I'll be home for dinner.\n",
    "            Theyre going to the zoo and she'll be home for dinner.\n",
    "            We should've do it in here but we shouldn't've eat it\n",
    "            \"\"\"\n",
    "print(\"Test: \", contractions.fix(test_text))\n",
    "\n",
    "train_df[\"text_clean\"] = train_df[\"text_clean\"].apply(lambda x: contractions.fix(x))"
   ]
  },
  {
   "cell_type": "code",
   "execution_count": 8,
   "metadata": {
    "execution": {
     "iopub.execute_input": "2023-03-23T00:05:07.099893Z",
     "iopub.status.busy": "2023-03-23T00:05:07.099426Z",
     "iopub.status.idle": "2023-03-23T00:05:07.111377Z",
     "shell.execute_reply": "2023-03-23T00:05:07.109668Z",
     "shell.execute_reply.started": "2023-03-23T00:05:07.099852Z"
    }
   },
   "outputs": [
    {
     "name": "stdout",
     "output_type": "stream",
     "text": [
      "Hey... what is it..\n",
      "@ | talk .\n",
      "What is it... an exclusive group of some WP TALIBANS...who are good at destroying, self-appointed purist who GANG UP any one who asks them questions abt their ANTI-SOCIAL and DESTRUCTIVE (non)-contribution at WP?\n",
      "\n",
      "Ask Sityush to clean up his behavior than issue me nonsensical warnings...\n",
      "hey... what is it..\n",
      "@ | talk .\n",
      "what is it... an exclusive group of some wp talibans...who are good at destroying, self-appointed purist who gang up any one who asks them questions about their anti-social and destructive (non)-contribution at wp?\n",
      "\n",
      "ask sityush to clean up his behavior than issue me nonsensical warnings...\n"
     ]
    }
   ],
   "source": [
    "print(train_df[\"comment_text\"][12]) #notice gang ip, wp\n",
    "print(train_df[\"text_clean\"][12])"
   ]
  },
  {
   "cell_type": "markdown",
   "metadata": {},
   "source": [
    "### 3. Noise Removal\n",
    "\n",
    "Removing unnecessary characters or punctuation such as URLs, HTML tags, non-ASCII characters (American Standard Code for Information Interchange), or other special characters (symbols, emojis, and other grahic characters)"
   ]
  },
  {
   "cell_type": "markdown",
   "metadata": {},
   "source": [
    "#### 3.1 Remove URL"
   ]
  },
  {
   "cell_type": "code",
   "execution_count": 9,
   "metadata": {
    "execution": {
     "iopub.execute_input": "2023-03-23T00:05:14.254980Z",
     "iopub.status.busy": "2023-03-23T00:05:14.254526Z",
     "iopub.status.idle": "2023-03-23T00:05:14.261918Z",
     "shell.execute_reply": "2023-03-23T00:05:14.260188Z",
     "shell.execute_reply.started": "2023-03-23T00:05:14.254926Z"
    }
   },
   "outputs": [],
   "source": [
    "def remove_URL(text):\n",
    "    \"\"\"\n",
    "        Remove URLs from a sample string\n",
    "    \"\"\"\n",
    "    return re.sub(r\"https?://\\S+|www\\.\\S+\", \"\", text)"
   ]
  },
  {
   "cell_type": "code",
   "execution_count": 10,
   "metadata": {
    "execution": {
     "iopub.execute_input": "2023-03-23T00:05:15.041282Z",
     "iopub.status.busy": "2023-03-23T00:05:15.039859Z",
     "iopub.status.idle": "2023-03-23T00:05:15.892581Z",
     "shell.execute_reply": "2023-03-23T00:05:15.891063Z",
     "shell.execute_reply.started": "2023-03-23T00:05:15.041222Z"
    }
   },
   "outputs": [
    {
     "name": "stdout",
     "output_type": "stream",
     "text": [
      "Check the following websites:\n",
      "\n",
      "http://www.iranchamber.com/personalities/farabi/farabi.php\n",
      "http://www.islam.org.br/%C2%A0al_farabi.htm\n",
      "http://www.superbeyin.com/sohbet/sohbet.htm\n",
      "check the following websites:\n",
      "\n",
      "\n",
      "\n",
      "\n"
     ]
    }
   ],
   "source": [
    "# remove urls from the text\n",
    "train_df[\"text_clean\"] = train_df[\"text_clean\"].apply(lambda x: remove_URL(x))\n",
    "\n",
    "# double check\n",
    "print(train_df[\"comment_text\"][101])\n",
    "print(train_df[\"text_clean\"][101])"
   ]
  },
  {
   "cell_type": "code",
   "execution_count": 11,
   "metadata": {
    "execution": {
     "iopub.execute_input": "2023-03-23T00:05:17.377095Z",
     "iopub.status.busy": "2023-03-23T00:05:17.376433Z",
     "iopub.status.idle": "2023-03-23T00:05:17.385597Z",
     "shell.execute_reply": "2023-03-23T00:05:17.383749Z",
     "shell.execute_reply.started": "2023-03-23T00:05:17.377023Z"
    }
   },
   "outputs": [
    {
     "name": "stdout",
     "output_type": "stream",
     "text": [
      "Transliteration of Russian place names\n",
      "In writing about Moscow Metro for the Malayalam Wikipedia, we are finding it difficult to correctly transliterate the Russian place names. For example, do we pronounce Park Kultury as PAARK KALTTARI or PAARK KALCHCHARI (or perhaps something completely different)? Can somebody please help by transliterating the list given in https://ml.wikipedia.org/wiki/സംവാദം:മോസ്കോ_മെട്രോ. (I am not putting the list here as I don't want to clutter up this page.) Thanks\n",
      "transliteration of russian place names\n",
      "in writing about moscow metro for the malayalam wikipedia, we are finding it difficult to correctly transliterate the russian place names. for example, do we pronounce park kultury as paark kalttari or paark kalchchari (or perhaps something completely different)? can somebody please help by transliterating the list given in  (i am not putting the list here as i do not want to clutter up this page.) thanks\n"
     ]
    }
   ],
   "source": [
    "print(train_df[\"comment_text\"][91]) #notice the url\n",
    "print(train_df[\"text_clean\"][91])"
   ]
  },
  {
   "cell_type": "markdown",
   "metadata": {},
   "source": [
    "#### 3.2 Remove HTML Tags"
   ]
  },
  {
   "cell_type": "code",
   "execution_count": 12,
   "metadata": {
    "execution": {
     "iopub.execute_input": "2023-03-23T00:06:36.986448Z",
     "iopub.status.busy": "2023-03-23T00:06:36.985861Z",
     "iopub.status.idle": "2023-03-23T00:06:36.993820Z",
     "shell.execute_reply": "2023-03-23T00:06:36.992233Z",
     "shell.execute_reply.started": "2023-03-23T00:06:36.986405Z"
    }
   },
   "outputs": [],
   "source": [
    "def remove_html(text):\n",
    "    \"\"\"\n",
    "        Remove the html in sample text\n",
    "    \"\"\"\n",
    "    html = re.compile(r\"<.*?>|&([a-z0-9]+|#[0-9]{1,6}|#x[0-9a-f]{1,6});\")\n",
    "    return re.sub(html, \"\", text)"
   ]
  },
  {
   "cell_type": "code",
   "execution_count": 13,
   "metadata": {
    "execution": {
     "iopub.execute_input": "2023-03-23T00:06:38.431147Z",
     "iopub.status.busy": "2023-03-23T00:06:38.430610Z",
     "iopub.status.idle": "2023-03-23T00:06:39.368828Z",
     "shell.execute_reply": "2023-03-23T00:06:39.367260Z",
     "shell.execute_reply.started": "2023-03-23T00:06:38.431105Z"
    }
   },
   "outputs": [
    {
     "name": "stdout",
     "output_type": "stream",
     "text": [
      "Also see this if you cant trust Murkoth Ramunni\n",
      "http://books.google.com/books?id=HHev0U1GfpEC&pg;=PA51&dq;=Thiyya+matrilineal&hl;=en&sa;=X&ei;=TlpPUd2aH8mWiQLgvIDgBA&ved;=0CDYQ6AEwAQ#v=onepage&q;=Thiyya%20matrilineal&f;=false\n",
      "also see this if you cannot trust murkoth ramunni\n",
      "\n"
     ]
    }
   ],
   "source": [
    "# remove html from the text\n",
    "train_df[\"text_clean\"] = train_df[\"text_clean\"].apply(lambda x: remove_html(x))\n",
    "\n",
    "# double check\n",
    "print(train_df[\"comment_text\"][117]) #notice the url is gone\n",
    "print(train_df[\"text_clean\"][117])"
   ]
  },
  {
   "cell_type": "markdown",
   "metadata": {},
   "source": [
    "#### 3.3 Remove Non-ASCII"
   ]
  },
  {
   "cell_type": "code",
   "execution_count": 14,
   "metadata": {
    "execution": {
     "iopub.execute_input": "2023-03-23T00:06:41.185504Z",
     "iopub.status.busy": "2023-03-23T00:06:41.184991Z",
     "iopub.status.idle": "2023-03-23T00:06:41.192477Z",
     "shell.execute_reply": "2023-03-23T00:06:41.190665Z",
     "shell.execute_reply.started": "2023-03-23T00:06:41.185460Z"
    }
   },
   "outputs": [],
   "source": [
    "def remove_non_ascii(text):\n",
    "    \"\"\"\n",
    "        Remove non-ASCII characters \n",
    "    \"\"\"\n",
    "    return re.sub(r'[^\\x00-\\x7f]',r'', text) \n",
    "# or ''.join([x for x in text if x in string.printable]) "
   ]
  },
  {
   "cell_type": "code",
   "execution_count": 15,
   "metadata": {
    "execution": {
     "iopub.execute_input": "2023-03-23T00:06:42.304550Z",
     "iopub.status.busy": "2023-03-23T00:06:42.304074Z",
     "iopub.status.idle": "2023-03-23T00:06:43.030685Z",
     "shell.execute_reply": "2023-03-23T00:06:43.029348Z",
     "shell.execute_reply.started": "2023-03-23T00:06:42.304509Z"
    }
   },
   "outputs": [
    {
     "name": "stdout",
     "output_type": "stream",
     "text": [
      "\"\n",
      "No, we don't.  The name \"\"Ivory Coast\"\" contains only English-alphabet letters, and it would sort just fine in almost all cases where \"\"Côte d'Ivoire\"\" remains missorted, often appearing after Croatia, after Cyprus, after Czech Republic.  You can see this by looking at Category:Communications by country and seeing where the subcategory Category:Communications in Côte d'Ivoire is missorted (even though the sorting of the article of the same name has been fixed—can you see the difference in order?).  Or you can see it by looking at Category:Nations at the 2004 Summer Olympics and seeing where the article Côte d'Ivoire at the 2004 Summer Olympics is missorted.\n",
      "There are hundreds of those problems out there.  Why don't you make yourself useful, and go fix some of them?   \n",
      "\n",
      "\"\n",
      "\"\n",
      "no, we do not.  the name \"\"ivory coast\"\" contains only english-alphabet letters, and it would sort just fine in almost all cases where \"\"cte d'ivoire\"\" remains missorted, often appearing after croatia, after cyprus, after czech republic.  you can see this by looking at category:communications by country and seeing where the subcategory category:communications in cte d'ivoire is missorted (even though the sorting of the article of the same name has been fixedcan you see the difference in order?).  or you can see it by looking at category:nations at the 2004 summer olympics and seeing where the article cte d'ivoire at the 2004 summer olympics is missorted.\n",
      "there are hundreds of those problems out there.  why do not you make yourself useful, and go fix some of them?   \n",
      "\n",
      "\"\n"
     ]
    }
   ],
   "source": [
    "# remove non-ascii characters from the text\n",
    "train_df[\"text_clean\"] = train_df[\"text_clean\"].apply(lambda x: remove_non_ascii(x))\n",
    "\n",
    "# double che\n",
    "print(train_df[\"comment_text\"][6011]) #notice Côte on the 2nd line\n",
    "print(train_df[\"text_clean\"][6011])"
   ]
  },
  {
   "cell_type": "code",
   "execution_count": 16,
   "metadata": {
    "execution": {
     "iopub.execute_input": "2023-03-23T00:06:45.489411Z",
     "iopub.status.busy": "2023-03-23T00:06:45.488382Z",
     "iopub.status.idle": "2023-03-23T00:06:45.497227Z",
     "shell.execute_reply": "2023-03-23T00:06:45.495335Z",
     "shell.execute_reply.started": "2023-03-23T00:06:45.489364Z"
    }
   },
   "outputs": [
    {
     "name": "stdout",
     "output_type": "stream",
     "text": [
      "amazons, after all\n",
      "I think I found the source of the connection of the labrys with the amazons: sagaris \n",
      "\n",
      " saga^ris , eôs Ion. ios, hê; pl. sagareis Ion. -i_s:a weapon used by the Scythian tribes, Hdt.1.215, 4.5;\n",
      "\n",
      " A. axinas sagaris eichon Id.7.64 ; by the Amazons, Aristarch. in \n",
      " PAmh.2.12 ii 10; by the Persians, Amazons, Mossynoeci, etc., \n",
      " X.An.4.4.16, 5.4.13:acc. to Hsch. single-edged, and joined by \n",
      " X. with kopis and machaira, Cyr. 1.2.9, 2.1.9, 4.2.22; \n",
      " double-edged acc. to AP6.94 (Phil.).\n",
      "\n",
      "i.e. an axe-like weapon, sometimes described as single-edged, and sometimes as double-edged. This shouild probably be put in a Sagaris article.\n",
      "amazons, after all\n",
      "i think i found the source of the connection of the labrys with the amazons: sagaris \n",
      "\n",
      " saga^ris , es ion. ios, h; pl. sagareis ion. -i_s:a weapon used by the scythian tribes, hdt.1.215, 4.5;\n",
      "\n",
      " a. axinas sagaris eichon id.7.64 ; by the amazons, aristarch. in \n",
      " pamh.2.12 ii 10; by the persians, amazons, mossynoeci, etc., \n",
      " x.an.4.4.16, 5.4.13:acc. to hsch. single-edged, and joined by \n",
      " x. with kopis and machaira, cyr. 1.2.9, 2.1.9, 4.2.22; \n",
      " double-edged acc. to ap6.94 (phil.).\n",
      "\n",
      "i.e. an axe-like weapon, sometimes described as single-edged, and sometimes as double-edged. this shouild probably be put in a sagaris article.\n"
     ]
    }
   ],
   "source": [
    "print(train_df[\"comment_text\"][7814]) #notice eôs\n",
    "print(train_df[\"text_clean\"][7814])"
   ]
  },
  {
   "cell_type": "markdown",
   "metadata": {},
   "source": [
    "#### 3.4 Remove Special Characters\n",
    "\n",
    "Special characters could be symbols, emojis, and other graphic characters. "
   ]
  },
  {
   "cell_type": "code",
   "execution_count": 17,
   "metadata": {
    "execution": {
     "iopub.execute_input": "2023-03-23T00:06:48.307797Z",
     "iopub.status.busy": "2023-03-23T00:06:48.306744Z",
     "iopub.status.idle": "2023-03-23T00:06:48.315762Z",
     "shell.execute_reply": "2023-03-23T00:06:48.314239Z",
     "shell.execute_reply.started": "2023-03-23T00:06:48.307726Z"
    }
   },
   "outputs": [],
   "source": [
    "def remove_special_characters(text):\n",
    "    \"\"\"\n",
    "        Remove special special characters, including symbols, emojis, and other graphic characters\n",
    "    \"\"\"\n",
    "    emoji_pattern = re.compile(\n",
    "        '['\n",
    "        u'\\U0001F600-\\U0001F64F'  # emoticons\n",
    "        u'\\U0001F300-\\U0001F5FF'  # symbols & pictographs\n",
    "        u'\\U0001F680-\\U0001F6FF'  # transport & map symbols\n",
    "        u'\\U0001F1E0-\\U0001F1FF'  # flags (iOS)\n",
    "        u'\\U00002702-\\U000027B0'\n",
    "        u'\\U000024C2-\\U0001F251'\n",
    "        ']+',\n",
    "        flags=re.UNICODE)\n",
    "    return emoji_pattern.sub(r'', text)"
   ]
  },
  {
   "cell_type": "code",
   "execution_count": 18,
   "metadata": {
    "execution": {
     "iopub.execute_input": "2023-03-23T00:06:49.441999Z",
     "iopub.status.busy": "2023-03-23T00:06:49.441446Z",
     "iopub.status.idle": "2023-03-23T00:06:51.405525Z",
     "shell.execute_reply": "2023-03-23T00:06:51.404235Z",
     "shell.execute_reply.started": "2023-03-23T00:06:49.441939Z"
    }
   },
   "outputs": [],
   "source": [
    "train_df[\"text_clean\"] = train_df[\"text_clean\"].apply(lambda x: remove_special_characters(x))"
   ]
  },
  {
   "cell_type": "code",
   "execution_count": 19,
   "metadata": {
    "execution": {
     "iopub.execute_input": "2023-03-23T00:06:51.408352Z",
     "iopub.status.busy": "2023-03-23T00:06:51.407588Z",
     "iopub.status.idle": "2023-03-23T00:06:51.417030Z",
     "shell.execute_reply": "2023-03-23T00:06:51.415454Z",
     "shell.execute_reply.started": "2023-03-23T00:06:51.408307Z"
    }
   },
   "outputs": [
    {
     "name": "stdout",
     "output_type": "stream",
     "text": [
      "\"P.S. It's not polite to talk to people behind their backs, please remove your comments from Mrph's talk page.\n",
      "\n",
      "Vaughan\n",
      "You're right; I went to check your previous edit and found a page on the Marvel site that spelled it \"\"Vaughn\"\", but now I am finding many more that spell it correctly. Thanks for the edits.   (☎☓) \n",
      "\n",
      "\"\n",
      "\"p.s. it is not polite to talk to people behind their backs, please remove your comments from mrph's talk page.\n",
      "\n",
      "vaughan\n",
      "you are right; i went to check your previous edit and found a page on the marvel site that spelled it \"\"vaughn\"\", but now i am finding many more that spell it correctly. thanks for the edits.   () \n",
      "\n",
      "\"\n"
     ]
    }
   ],
   "source": [
    "# double check\n",
    "print(train_df[\"comment_text\"][143]) #notice the telephone\n",
    "print(train_df[\"text_clean\"][143])"
   ]
  },
  {
   "cell_type": "code",
   "execution_count": 20,
   "metadata": {
    "execution": {
     "iopub.execute_input": "2023-03-23T00:06:51.948621Z",
     "iopub.status.busy": "2023-03-23T00:06:51.947445Z",
     "iopub.status.idle": "2023-03-23T00:06:51.956166Z",
     "shell.execute_reply": "2023-03-23T00:06:51.954469Z",
     "shell.execute_reply.started": "2023-03-23T00:06:51.948569Z"
    }
   },
   "outputs": [
    {
     "name": "stdout",
     "output_type": "stream",
     "text": [
      "\"\n",
      "\n",
      "Sorry to interrupt but I'm at 1200 edits now... the first 200 were likely just on my own pages and because I was asking for help so much so maybe just 1000... or maybe less... but it still kind of counts. ♥♥Amulet♥♥ \"\n",
      "\"\n",
      "\n",
      "sorry to interrupt but i am at 1200 edits now... the first 200 were likely just on my own pages and because i was asking for help so much so maybe just 1000... or maybe less... but it still kind of counts. amulet \"\n"
     ]
    }
   ],
   "source": [
    "print(train_df[\"comment_text\"][189]) #notice the heart\n",
    "print(train_df[\"text_clean\"][189])"
   ]
  },
  {
   "cell_type": "markdown",
   "metadata": {},
   "source": [
    "#### 3.5 Remove Punctuations"
   ]
  },
  {
   "cell_type": "code",
   "execution_count": 21,
   "metadata": {
    "execution": {
     "iopub.execute_input": "2023-03-23T00:06:55.990792Z",
     "iopub.status.busy": "2023-03-23T00:06:55.989536Z",
     "iopub.status.idle": "2023-03-23T00:06:55.997833Z",
     "shell.execute_reply": "2023-03-23T00:06:55.996242Z",
     "shell.execute_reply.started": "2023-03-23T00:06:55.990741Z"
    }
   },
   "outputs": [],
   "source": [
    "def remove_punct(text):\n",
    "    \"\"\"\n",
    "        Remove the punctuation\n",
    "    \"\"\"\n",
    "#     return re.sub(r'[]!\"$%&\\'()*+,./:;=#@?[\\\\^_`{|}~-]+', \"\", text)\n",
    "    return text.translate(str.maketrans('', '', string.punctuation))"
   ]
  },
  {
   "cell_type": "code",
   "execution_count": 22,
   "metadata": {
    "execution": {
     "iopub.execute_input": "2023-03-23T00:06:56.568222Z",
     "iopub.status.busy": "2023-03-23T00:06:56.567329Z",
     "iopub.status.idle": "2023-03-23T00:06:57.633692Z",
     "shell.execute_reply": "2023-03-23T00:06:57.632263Z",
     "shell.execute_reply.started": "2023-03-23T00:06:56.568176Z"
    }
   },
   "outputs": [
    {
     "name": "stdout",
     "output_type": "stream",
     "text": [
      "\"\n",
      "More\n",
      "I can't make any real suggestions on improvement - I wondered if the section statistics should be later on, or a subsection of \"\"types of accidents\"\"  -I think the references may need tidying so that they are all in the exact same format ie date format etc. I can do that later on, if no-one else does first - if you have any preferences for formatting style on references or want to do it yourself please let me know.\n",
      "\n",
      "There appears to be a backlog on articles for review so I guess there may be a delay until a reviewer turns up. It's listed in the relevant form eg Wikipedia:Good_article_nominations#Transport  \"\n",
      "\n",
      "more\n",
      "i cannot make any real suggestions on improvement  i wondered if the section statistics should be later on or a subsection of types of accidents  i think the references may need tidying so that they are all in the exact same format ie date format etc i can do that later on if noone else does first  if you have any preferences for formatting style on references or want to do it yourself please let me know\n",
      "\n",
      "there appears to be a backlog on articles for review so i guess there may be a delay until a reviewer turns up it is listed in the relevant form eg wikipediagoodarticlenominationstransport  \n"
     ]
    }
   ],
   "source": [
    "train_df[\"text_clean\"] = train_df[\"text_clean\"].apply(lambda x: remove_punct(x))\n",
    "\n",
    "# double check\n",
    "print(train_df[\"comment_text\"][3])\n",
    "print(train_df[\"text_clean\"][3])"
   ]
  },
  {
   "cell_type": "code",
   "execution_count": 23,
   "metadata": {
    "execution": {
     "iopub.execute_input": "2023-03-23T00:07:02.833817Z",
     "iopub.status.busy": "2023-03-23T00:07:02.833300Z",
     "iopub.status.idle": "2023-03-23T00:07:02.840840Z",
     "shell.execute_reply": "2023-03-23T00:07:02.839498Z",
     "shell.execute_reply.started": "2023-03-23T00:07:02.833777Z"
    }
   },
   "outputs": [
    {
     "name": "stdout",
     "output_type": "stream",
     "text": [
      "\"\n",
      "\n",
      "I don't see a problem with citing GAO/HRD-87-46 and the pdf linked there. The \"\"internal FDA documents\"\" sound like they are by definition not published.  Talk \"\n",
      "\n",
      "\n",
      "i do not see a problem with citing gaohrd8746 and the pdf linked there the internal fda documents sound like they are by definition not published  talk \n"
     ]
    }
   ],
   "source": [
    "print(train_df[\"comment_text\"][7595])\n",
    "print(train_df[\"text_clean\"][7595])"
   ]
  },
  {
   "cell_type": "markdown",
   "metadata": {},
   "source": [
    "#### 3.6 Other Manual Text Cleaning Tasks\n",
    "\n",
    "- Replace Unicode characters with equivalent ASCII character (instead of removing)\n",
    "- Replace the entity references with their actual symbols instead of removing as HTML tags\n",
    "- Replace the Typos, slang, acronyms or informal abbreviations - depends on diffrent situations or main topics of the NLP such as finance or medical topics. \n",
    "- List out all the hashtags/ usernames then replace with equivalent words. \n",
    "- Replace the emoticon/ emoji with equivalent word meaning such as \":)\" with \"smile\" \n",
    "- Spelling correction"
   ]
  },
  {
   "cell_type": "code",
   "execution_count": 24,
   "metadata": {
    "execution": {
     "iopub.execute_input": "2023-03-23T00:07:04.669589Z",
     "iopub.status.busy": "2023-03-23T00:07:04.668120Z",
     "iopub.status.idle": "2023-03-23T00:07:04.713585Z",
     "shell.execute_reply": "2023-03-23T00:07:04.711938Z",
     "shell.execute_reply.started": "2023-03-23T00:07:04.669509Z"
    }
   },
   "outputs": [],
   "source": [
    "def other_clean(text):\n",
    "        \"\"\"\n",
    "            Other manual text cleaning techniques\n",
    "        \"\"\"\n",
    "        # Typos, slang and other\n",
    "        sample_typos_slang = {\n",
    "                                \"w/e\": \"whatever\",\n",
    "                                \"usagov\": \"usa government\",\n",
    "                                \"recentlu\": \"recently\",\n",
    "                                \"ph0tos\": \"photos\",\n",
    "                                \"amirite\": \"am i right\",\n",
    "                                \"exp0sed\": \"exposed\",\n",
    "                                \"<3\": \"love\",\n",
    "                                \"luv\": \"love\",\n",
    "                                \"amageddon\": \"armageddon\",\n",
    "                                \"trfc\": \"traffic\",\n",
    "                                \"16yr\": \"16 year\"\n",
    "                                }\n",
    "\n",
    "        # Acronyms\n",
    "        sample_acronyms =  { \n",
    "                            \"mh370\": \"malaysia airlines flight 370\",\n",
    "                            \"okwx\": \"oklahoma city weather\",\n",
    "                            \"arwx\": \"arkansas weather\",    \n",
    "                            \"gawx\": \"georgia weather\",  \n",
    "                            \"scwx\": \"south carolina weather\",  \n",
    "                            \"cawx\": \"california weather\",\n",
    "                            \"tnwx\": \"tennessee weather\",\n",
    "                            \"azwx\": \"arizona weather\",  \n",
    "                            \"alwx\": \"alabama weather\",\n",
    "                            \"usnwsgov\": \"united states national weather service\",\n",
    "                            \"2mw\": \"tomorrow\"\n",
    "                            }\n",
    "\n",
    "        # Some common abbreviations \n",
    "        sample_abbr = {\n",
    "                        \"$\" : \" dollar \",\n",
    "                        \"€\" : \" euro \",\n",
    "                        \"4ao\" : \"for adults only\",\n",
    "                        \"a.m\" : \"before midday\",\n",
    "                        \"a3\" : \"anytime anywhere anyplace\",\n",
    "                        \"aamof\" : \"as a matter of fact\",\n",
    "                        \"acct\" : \"account\",\n",
    "                        \"adih\" : \"another day in hell\",\n",
    "                        \"afaic\" : \"as far as i am concerned\",\n",
    "                        \"afaict\" : \"as far as i can tell\",\n",
    "                        \"afaik\" : \"as far as i know\",\n",
    "                        \"afair\" : \"as far as i remember\",\n",
    "                        \"afk\" : \"away from keyboard\",\n",
    "                        \"app\" : \"application\",\n",
    "                        \"approx\" : \"approximately\",\n",
    "                        \"apps\" : \"applications\",\n",
    "                        \"asap\" : \"as soon as possible\",\n",
    "                        \"asl\" : \"age, sex, location\",\n",
    "                        \"atk\" : \"at the keyboard\",\n",
    "                        \"ave.\" : \"avenue\",\n",
    "                        \"aymm\" : \"are you my mother\",\n",
    "                        \"ayor\" : \"at your own risk\", \n",
    "                        \"b&b\" : \"bed and breakfast\",\n",
    "                        \"b+b\" : \"bed and breakfast\",\n",
    "                        \"b.c\" : \"before christ\",\n",
    "                        \"b2b\" : \"business to business\",\n",
    "                        \"b2c\" : \"business to customer\",\n",
    "                        \"b4\" : \"before\",\n",
    "                        \"b4n\" : \"bye for now\",\n",
    "                        \"b@u\" : \"back at you\",\n",
    "                        \"bae\" : \"before anyone else\",\n",
    "                        \"bak\" : \"back at keyboard\",\n",
    "                        \"bbbg\" : \"bye bye be good\",\n",
    "                        \"bbc\" : \"british broadcasting corporation\",\n",
    "                        \"bbias\" : \"be back in a second\",\n",
    "                        \"bbl\" : \"be back later\",\n",
    "                        \"bbs\" : \"be back soon\",\n",
    "                        \"be4\" : \"before\",\n",
    "                        \"bfn\" : \"bye for now\",\n",
    "                        \"blvd\" : \"boulevard\",\n",
    "                        \"bout\" : \"about\",\n",
    "                        \"brb\" : \"be right back\",\n",
    "                        \"bros\" : \"brothers\",\n",
    "                        \"brt\" : \"be right there\",\n",
    "                        \"bsaaw\" : \"big smile and a wink\",\n",
    "                        \"btw\" : \"by the way\",\n",
    "                        \"bwl\" : \"bursting with laughter\",\n",
    "                        \"c/o\" : \"care of\",\n",
    "                        \"cet\" : \"central european time\",\n",
    "                        \"cf\" : \"compare\",\n",
    "                        \"cia\" : \"central intelligence agency\",\n",
    "                        \"csl\" : \"can not stop laughing\",\n",
    "                        \"cu\" : \"see you\",\n",
    "                        \"cul8r\" : \"see you later\",\n",
    "                        \"cv\" : \"curriculum vitae\",\n",
    "                        \"cwot\" : \"complete waste of time\",\n",
    "                        \"cya\" : \"see you\",\n",
    "                        \"cyt\" : \"see you tomorrow\",\n",
    "                        \"dae\" : \"does anyone else\",\n",
    "                        \"dbmib\" : \"do not bother me i am busy\",\n",
    "                        \"diy\" : \"do it yourself\",\n",
    "                        \"dm\" : \"direct message\",\n",
    "                        \"dwh\" : \"during work hours\",\n",
    "                        \"e123\" : \"easy as one two three\",\n",
    "                        \"eet\" : \"eastern european time\",\n",
    "                        \"eg\" : \"example\",\n",
    "                        \"embm\" : \"early morning business meeting\",\n",
    "                        \"encl\" : \"enclosed\",\n",
    "                        \"encl.\" : \"enclosed\",\n",
    "                        \"etc\" : \"and so on\",\n",
    "                        \"faq\" : \"frequently asked questions\",\n",
    "                        \"fawc\" : \"for anyone who cares\",\n",
    "                        \"fb\" : \"facebook\",\n",
    "                        \"fc\" : \"fingers crossed\",\n",
    "                        \"fig\" : \"figure\",\n",
    "                        \"fimh\" : \"forever in my heart\", \n",
    "                        \"ft.\" : \"feet\",\n",
    "                        \"ft\" : \"featuring\",\n",
    "                        \"ftl\" : \"for the loss\",\n",
    "                        \"ftw\" : \"for the win\",\n",
    "                        \"fwiw\" : \"for what it is worth\",\n",
    "                        \"fyi\" : \"for your information\",\n",
    "                        \"g9\" : \"genius\",\n",
    "                        \"gahoy\" : \"get a hold of yourself\",\n",
    "                        \"gal\" : \"get a life\",\n",
    "                        \"gcse\" : \"general certificate of secondary education\",\n",
    "                        \"gfn\" : \"gone for now\",\n",
    "                        \"gg\" : \"good game\",\n",
    "                        \"gl\" : \"good luck\",\n",
    "                        \"glhf\" : \"good luck have fun\",\n",
    "                        \"gmt\" : \"greenwich mean time\",\n",
    "                        \"gmta\" : \"great minds think alike\",\n",
    "                        \"gn\" : \"good night\",\n",
    "                        \"g.o.a.t\" : \"greatest of all time\",\n",
    "                        \"goat\" : \"greatest of all time\",\n",
    "                        \"goi\" : \"get over it\",\n",
    "                        \"gps\" : \"global positioning system\",\n",
    "                        \"gr8\" : \"great\",\n",
    "                        \"gratz\" : \"congratulations\",\n",
    "                        \"gyal\" : \"girl\",\n",
    "                        \"h&c\" : \"hot and cold\",\n",
    "                        \"hp\" : \"horsepower\",\n",
    "                        \"hr\" : \"hour\",\n",
    "                        \"hrh\" : \"his royal highness\",\n",
    "                        \"ht\" : \"height\",\n",
    "                        \"ibrb\" : \"i will be right back\",\n",
    "                        \"ic\" : \"i see\",\n",
    "                        \"icq\" : \"i seek you\",\n",
    "                        \"icymi\" : \"in case you missed it\",\n",
    "                        \"idc\" : \"i do not care\",\n",
    "                        \"idgadf\" : \"i do not give a damn fuck\",\n",
    "                        \"idgaf\" : \"i do not give a fuck\",\n",
    "                        \"idk\" : \"i do not know\",\n",
    "                        \"ie\" : \"that is\",\n",
    "                        \"i.e\" : \"that is\",\n",
    "                        \"ifyp\" : \"i feel your pain\",\n",
    "                        \"IG\" : \"instagram\",\n",
    "                        \"iirc\" : \"if i remember correctly\",\n",
    "                        \"ilu\" : \"i love you\",\n",
    "                        \"ily\" : \"i love you\",\n",
    "                        \"imho\" : \"in my humble opinion\",\n",
    "                        \"imo\" : \"in my opinion\",\n",
    "                        \"imu\" : \"i miss you\",\n",
    "                        \"iow\" : \"in other words\",\n",
    "                        \"irl\" : \"in real life\",\n",
    "                        \"j4f\" : \"just for fun\",\n",
    "                        \"jic\" : \"just in case\",\n",
    "                        \"jk\" : \"just kidding\",\n",
    "                        \"jsyk\" : \"just so you know\",\n",
    "                        \"l8r\" : \"later\",\n",
    "                        \"lb\" : \"pound\",\n",
    "                        \"lbs\" : \"pounds\",\n",
    "                        \"ldr\" : \"long distance relationship\",\n",
    "                        \"lmao\" : \"laugh my ass off\",\n",
    "                        \"lmfao\" : \"laugh my fucking ass off\",\n",
    "                        \"lol\" : \"laughing out loud\",\n",
    "                        \"ltd\" : \"limited\",\n",
    "                        \"ltns\" : \"long time no see\",\n",
    "                        \"m8\" : \"mate\",\n",
    "                        \"mf\" : \"motherfucker\",\n",
    "                        \"mfs\" : \"motherfuckers\",\n",
    "                        \"mfw\" : \"my face when\",\n",
    "                        \"mofo\" : \"motherfucker\",\n",
    "                        \"mph\" : \"miles per hour\",\n",
    "                        \"mr\" : \"mister\",\n",
    "                        \"mrw\" : \"my reaction when\",\n",
    "                        \"ms\" : \"miss\",\n",
    "                        \"mte\" : \"my thoughts exactly\",\n",
    "                        \"nagi\" : \"not a good idea\",\n",
    "                        \"nbc\" : \"national broadcasting company\",\n",
    "                        \"nbd\" : \"not big deal\",\n",
    "                        \"nfs\" : \"not for sale\",\n",
    "                        \"ngl\" : \"not going to lie\",\n",
    "                        \"nhs\" : \"national health service\",\n",
    "                        \"nrn\" : \"no reply necessary\",\n",
    "                        \"nsfl\" : \"not safe for life\",\n",
    "                        \"nsfw\" : \"not safe for work\",\n",
    "                        \"nth\" : \"nice to have\",\n",
    "                        \"nvr\" : \"never\",\n",
    "                        \"nyc\" : \"new york city\",\n",
    "                        \"oc\" : \"original content\",\n",
    "                        \"og\" : \"original\",\n",
    "                        \"ohp\" : \"overhead projector\",\n",
    "                        \"oic\" : \"oh i see\",\n",
    "                        \"omdb\" : \"over my dead body\",\n",
    "                        \"omg\" : \"oh my god\",\n",
    "                        \"omw\" : \"on my way\",\n",
    "                        \"p.a\" : \"per annum\",\n",
    "                        \"p.m\" : \"after midday\",\n",
    "                        \"pm\" : \"prime minister\",\n",
    "                        \"poc\" : \"people of color\",\n",
    "                        \"pov\" : \"point of view\",\n",
    "                        \"pp\" : \"pages\",\n",
    "                        \"ppl\" : \"people\",\n",
    "                        \"prw\" : \"parents are watching\",\n",
    "                        \"ps\" : \"postscript\",\n",
    "                        \"pt\" : \"point\",\n",
    "                        \"ptb\" : \"please text back\",\n",
    "                        \"pto\" : \"please turn over\",\n",
    "                        \"qpsa\" : \"what happens\", #\"que pasa\",\n",
    "                        \"ratchet\" : \"rude\",\n",
    "                        \"rbtl\" : \"read between the lines\",\n",
    "                        \"rlrt\" : \"real life retweet\", \n",
    "                        \"rofl\" : \"rolling on the floor laughing\",\n",
    "                        \"roflol\" : \"rolling on the floor laughing out loud\",\n",
    "                        \"rotflmao\" : \"rolling on the floor laughing my ass off\",\n",
    "                        \"rt\" : \"retweet\",\n",
    "                        \"ruok\" : \"are you ok\",\n",
    "                        \"sfw\" : \"safe for work\",\n",
    "                        \"sk8\" : \"skate\",\n",
    "                        \"smh\" : \"shake my head\",\n",
    "                        \"sq\" : \"square\",\n",
    "                        \"srsly\" : \"seriously\", \n",
    "                        \"ssdd\" : \"same stuff different day\",\n",
    "                        \"tbh\" : \"to be honest\",\n",
    "                        \"tbs\" : \"tablespooful\",\n",
    "                        \"tbsp\" : \"tablespooful\",\n",
    "                        \"tfw\" : \"that feeling when\",\n",
    "                        \"thks\" : \"thank you\",\n",
    "                        \"tho\" : \"though\",\n",
    "                        \"thx\" : \"thank you\",\n",
    "                        \"tia\" : \"thanks in advance\",\n",
    "                        \"til\" : \"today i learned\",\n",
    "                        \"tl;dr\" : \"too long i did not read\",\n",
    "                        \"tldr\" : \"too long i did not read\",\n",
    "                        \"tmb\" : \"tweet me back\",\n",
    "                        \"tntl\" : \"trying not to laugh\",\n",
    "                        \"ttyl\" : \"talk to you later\",\n",
    "                        \"u\" : \"you\",\n",
    "                        \"u2\" : \"you too\",\n",
    "                        \"u4e\" : \"yours for ever\",\n",
    "                        \"utc\" : \"coordinated universal time\",\n",
    "                        \"w/\" : \"with\",\n",
    "                        \"w/o\" : \"without\",\n",
    "                        \"w8\" : \"wait\",\n",
    "                        \"wassup\" : \"what is up\",\n",
    "                        \"wb\" : \"welcome back\",\n",
    "                        \"wtf\" : \"what the fuck\",\n",
    "                        \"wtg\" : \"way to go\",\n",
    "                        \"wtpa\" : \"where the party at\",\n",
    "                        \"wuf\" : \"where are you from\",\n",
    "                        \"wuzup\" : \"what is up\",\n",
    "                        \"wywh\" : \"wish you were here\",\n",
    "                        \"yd\" : \"yard\",\n",
    "                        \"ygtr\" : \"you got that right\",\n",
    "                        \"ynk\" : \"you never know\",\n",
    "                        \"zzz\" : \"sleeping bored and tired\"\n",
    "                        }\n",
    "            \n",
    "        sample_typos_slang_pattern = re.compile(r'(?<!\\w)(' + '|'.join(re.escape(key) for key in sample_typos_slang.keys()) + r')(?!\\w)')\n",
    "        sample_acronyms_pattern = re.compile(r'(?<!\\w)(' + '|'.join(re.escape(key) for key in sample_acronyms.keys()) + r')(?!\\w)')\n",
    "        sample_abbr_pattern = re.compile(r'(?<!\\w)(' + '|'.join(re.escape(key) for key in sample_abbr.keys()) + r')(?!\\w)')\n",
    "        \n",
    "        text = sample_typos_slang_pattern.sub(lambda x: sample_typos_slang[x.group()], text)\n",
    "        text = sample_acronyms_pattern.sub(lambda x: sample_acronyms[x.group()], text)\n",
    "        text = sample_abbr_pattern.sub(lambda x: sample_abbr[x.group()], text)\n",
    "        \n",
    "        return text"
   ]
  },
  {
   "cell_type": "code",
   "execution_count": 25,
   "metadata": {
    "execution": {
     "iopub.execute_input": "2023-03-23T00:07:05.882661Z",
     "iopub.status.busy": "2023-03-23T00:07:05.881814Z",
     "iopub.status.idle": "2023-03-23T00:07:57.254492Z",
     "shell.execute_reply": "2023-03-23T00:07:57.253069Z",
     "shell.execute_reply.started": "2023-03-23T00:07:05.882620Z"
    }
   },
   "outputs": [],
   "source": [
    "train_df[\"text_clean\"] = train_df[\"text_clean\"].apply(lambda x: other_clean(x))"
   ]
  },
  {
   "cell_type": "code",
   "execution_count": 26,
   "metadata": {
    "execution": {
     "iopub.execute_input": "2023-03-23T00:07:57.260446Z",
     "iopub.status.busy": "2023-03-23T00:07:57.259688Z",
     "iopub.status.idle": "2023-03-23T00:07:57.269371Z",
     "shell.execute_reply": "2023-03-23T00:07:57.267762Z",
     "shell.execute_reply.started": "2023-03-23T00:07:57.260402Z"
    }
   },
   "outputs": [
    {
     "name": "stdout",
     "output_type": "stream",
     "text": [
      "\"   Please refrain from creating inappropriate pages such as OMG LIEK TOTALLY. It is considered vandalism. If you would like to experiment, use the sandbox.  , Recent changes patrol\"\n",
      "   please refrain from creating inappropriate pages such as oh my god liek totally it is considered vandalism if you would like to experiment use the sandbox   recent changes patrol\n"
     ]
    }
   ],
   "source": [
    "# double check\n",
    "print(train_df[\"comment_text\"][10875]) #notice omg\n",
    "print(train_df[\"text_clean\"][10875])"
   ]
  },
  {
   "cell_type": "code",
   "execution_count": 27,
   "metadata": {
    "execution": {
     "iopub.execute_input": "2023-03-23T00:07:57.271913Z",
     "iopub.status.busy": "2023-03-23T00:07:57.271425Z",
     "iopub.status.idle": "2023-03-23T00:07:57.286858Z",
     "shell.execute_reply": "2023-03-23T00:07:57.285828Z",
     "shell.execute_reply.started": "2023-03-23T00:07:57.271860Z"
    }
   },
   "outputs": [
    {
     "name": "stdout",
     "output_type": "stream",
     "text": [
      "Poor Walty is blocked ( LMAO knew it would happen someday.\n",
      "poor walty is blocked  laugh my ass off knew it would happen someday\n"
     ]
    }
   ],
   "source": [
    "print(train_df[\"comment_text\"][20296]) #notice lmao\n",
    "print(train_df[\"text_clean\"][20296])"
   ]
  },
  {
   "cell_type": "markdown",
   "metadata": {},
   "source": [
    "#### 3.7 Spelling Correction (optional)\n",
    "\n",
    "Social media text data are usually typos or mistyped. \n",
    "Time required to fix spelling for entire dataset\n",
    "potential may take days."
   ]
  },
  {
   "cell_type": "code",
   "execution_count": 28,
   "metadata": {
    "execution": {
     "iopub.execute_input": "2023-03-19T05:57:47.601521Z",
     "iopub.status.busy": "2023-03-19T05:57:47.601147Z",
     "iopub.status.idle": "2023-03-19T05:57:47.778777Z",
     "shell.execute_reply": "2023-03-19T05:57:47.777113Z",
     "shell.execute_reply.started": "2023-03-19T05:57:47.601488Z"
    }
   },
   "outputs": [],
   "source": [
    "#from textblob import TextBlob\n",
    "#print(\"Test: \", TextBlob(\"sleapy and tehre is no plaxe I'm gioong to.\").correct())"
   ]
  },
  {
   "cell_type": "code",
   "execution_count": 29,
   "metadata": {
    "execution": {
     "iopub.execute_input": "2023-03-19T05:57:50.609184Z",
     "iopub.status.busy": "2023-03-19T05:57:50.608818Z"
    }
   },
   "outputs": [],
   "source": [
    "#train_df['text_clean'] = train_df['text_clean'].apply(lambda x: TextBlob(x).correct())"
   ]
  },
  {
   "cell_type": "code",
   "execution_count": 30,
   "metadata": {
    "execution": {
     "iopub.execute_input": "2023-03-19T05:37:53.440531Z",
     "iopub.status.busy": "2023-03-19T05:37:53.439930Z",
     "iopub.status.idle": "2023-03-19T05:37:53.445959Z",
     "shell.execute_reply": "2023-03-19T05:37:53.445031Z",
     "shell.execute_reply.started": "2023-03-19T05:37:53.440492Z"
    }
   },
   "outputs": [],
   "source": [
    "# double check\n",
    "#print(train_df[\"comment_text\"][10875]) #notice liek is fixed to like \n",
    "#print(train_df[\"text_clean\"][10875])"
   ]
  },
  {
   "cell_type": "markdown",
   "metadata": {},
   "source": [
    "# Text Preprocessing:\n",
    "\n",
    "### 1. Tokenization\n",
    "Tokenization is a common technique that split a sentence into tokens, where a token could be characters, words, phrases, symbols, or other meaningful elements. By breaking sentences into smaller chunks, that would help to investigate the words in a sentence and also the subsequent steps in the NLP pipeline, such as stemming."
   ]
  },
  {
   "cell_type": "code",
   "execution_count": 31,
   "metadata": {
    "execution": {
     "iopub.execute_input": "2023-03-23T00:10:39.246895Z",
     "iopub.status.busy": "2023-03-23T00:10:39.245218Z",
     "iopub.status.idle": "2023-03-23T00:11:34.964999Z",
     "shell.execute_reply": "2023-03-23T00:11:34.963562Z",
     "shell.execute_reply.started": "2023-03-23T00:10:39.246829Z"
    }
   },
   "outputs": [
    {
     "name": "stderr",
     "output_type": "stream",
     "text": [
      "[nltk_data] Downloading package punkt to\n",
      "[nltk_data]     C:\\Users\\Pokie\\AppData\\Roaming\\nltk_data...\n",
      "[nltk_data]   Package punkt is already up-to-date!\n"
     ]
    },
    {
     "data": {
      "text/html": [
       "<div>\n",
       "<style scoped>\n",
       "    .dataframe tbody tr th:only-of-type {\n",
       "        vertical-align: middle;\n",
       "    }\n",
       "\n",
       "    .dataframe tbody tr th {\n",
       "        vertical-align: top;\n",
       "    }\n",
       "\n",
       "    .dataframe thead th {\n",
       "        text-align: right;\n",
       "    }\n",
       "</style>\n",
       "<table border=\"1\" class=\"dataframe\">\n",
       "  <thead>\n",
       "    <tr style=\"text-align: right;\">\n",
       "      <th></th>\n",
       "      <th>id</th>\n",
       "      <th>comment_text</th>\n",
       "      <th>toxic</th>\n",
       "      <th>severe_toxic</th>\n",
       "      <th>obscene</th>\n",
       "      <th>threat</th>\n",
       "      <th>insult</th>\n",
       "      <th>identity_hate</th>\n",
       "      <th>text_clean</th>\n",
       "      <th>tokenized</th>\n",
       "    </tr>\n",
       "  </thead>\n",
       "  <tbody>\n",
       "    <tr>\n",
       "      <th>0</th>\n",
       "      <td>0000997932d777bf</td>\n",
       "      <td>Explanation\\nWhy the edits made under my usern...</td>\n",
       "      <td>0</td>\n",
       "      <td>0</td>\n",
       "      <td>0</td>\n",
       "      <td>0</td>\n",
       "      <td>0</td>\n",
       "      <td>0</td>\n",
       "      <td>explanation\\nwhy the edits made under my usern...</td>\n",
       "      <td>[explanation, why, the, edits, made, under, my...</td>\n",
       "    </tr>\n",
       "    <tr>\n",
       "      <th>1</th>\n",
       "      <td>000103f0d9cfb60f</td>\n",
       "      <td>D'aww! He matches this background colour I'm s...</td>\n",
       "      <td>0</td>\n",
       "      <td>0</td>\n",
       "      <td>0</td>\n",
       "      <td>0</td>\n",
       "      <td>0</td>\n",
       "      <td>0</td>\n",
       "      <td>daww he matches this background colour i am se...</td>\n",
       "      <td>[daww, he, matches, this, background, colour, ...</td>\n",
       "    </tr>\n",
       "    <tr>\n",
       "      <th>2</th>\n",
       "      <td>000113f07ec002fd</td>\n",
       "      <td>Hey man, I'm really not trying to edit war. It...</td>\n",
       "      <td>0</td>\n",
       "      <td>0</td>\n",
       "      <td>0</td>\n",
       "      <td>0</td>\n",
       "      <td>0</td>\n",
       "      <td>0</td>\n",
       "      <td>hey man i am really not trying to edit war it ...</td>\n",
       "      <td>[hey, man, i, am, really, not, trying, to, edi...</td>\n",
       "    </tr>\n",
       "    <tr>\n",
       "      <th>3</th>\n",
       "      <td>0001b41b1c6bb37e</td>\n",
       "      <td>\"\\nMore\\nI can't make any real suggestions on ...</td>\n",
       "      <td>0</td>\n",
       "      <td>0</td>\n",
       "      <td>0</td>\n",
       "      <td>0</td>\n",
       "      <td>0</td>\n",
       "      <td>0</td>\n",
       "      <td>\\nmore\\ni cannot make any real suggestions on ...</td>\n",
       "      <td>[more, i, can, not, make, any, real, suggestio...</td>\n",
       "    </tr>\n",
       "    <tr>\n",
       "      <th>4</th>\n",
       "      <td>0001d958c54c6e35</td>\n",
       "      <td>You, sir, are my hero. Any chance you remember...</td>\n",
       "      <td>0</td>\n",
       "      <td>0</td>\n",
       "      <td>0</td>\n",
       "      <td>0</td>\n",
       "      <td>0</td>\n",
       "      <td>0</td>\n",
       "      <td>you sir are my hero any chance you remember wh...</td>\n",
       "      <td>[you, sir, are, my, hero, any, chance, you, re...</td>\n",
       "    </tr>\n",
       "  </tbody>\n",
       "</table>\n",
       "</div>"
      ],
      "text/plain": [
       "                 id                                       comment_text  toxic  \\\n",
       "0  0000997932d777bf  Explanation\\nWhy the edits made under my usern...      0   \n",
       "1  000103f0d9cfb60f  D'aww! He matches this background colour I'm s...      0   \n",
       "2  000113f07ec002fd  Hey man, I'm really not trying to edit war. It...      0   \n",
       "3  0001b41b1c6bb37e  \"\\nMore\\nI can't make any real suggestions on ...      0   \n",
       "4  0001d958c54c6e35  You, sir, are my hero. Any chance you remember...      0   \n",
       "\n",
       "   severe_toxic  obscene  threat  insult  identity_hate  \\\n",
       "0             0        0       0       0              0   \n",
       "1             0        0       0       0              0   \n",
       "2             0        0       0       0              0   \n",
       "3             0        0       0       0              0   \n",
       "4             0        0       0       0              0   \n",
       "\n",
       "                                          text_clean  \\\n",
       "0  explanation\\nwhy the edits made under my usern...   \n",
       "1  daww he matches this background colour i am se...   \n",
       "2  hey man i am really not trying to edit war it ...   \n",
       "3  \\nmore\\ni cannot make any real suggestions on ...   \n",
       "4  you sir are my hero any chance you remember wh...   \n",
       "\n",
       "                                           tokenized  \n",
       "0  [explanation, why, the, edits, made, under, my...  \n",
       "1  [daww, he, matches, this, background, colour, ...  \n",
       "2  [hey, man, i, am, really, not, trying, to, edi...  \n",
       "3  [more, i, can, not, make, any, real, suggestio...  \n",
       "4  [you, sir, are, my, hero, any, chance, you, re...  "
      ]
     },
     "execution_count": 31,
     "metadata": {},
     "output_type": "execute_result"
    }
   ],
   "source": [
    "# Tokenizing the tweet base texts.\n",
    "from nltk.tokenize import word_tokenize\n",
    "nltk.download('punkt')\n",
    "\n",
    "train_df['tokenized'] = train_df['text_clean'].apply(word_tokenize)\n",
    "train_df.head()"
   ]
  },
  {
   "cell_type": "markdown",
   "metadata": {},
   "source": [
    "### 2. Remove Stop Words (or/and Frequent words/ Rare words):\n",
    "Stop words are common words in any language that occur with a high frequency but do not deliver meaningful information for the whole sentence. For example, {“a”, “about”, “above”, “across”, “after”, “afterward”, “again”, ...} can be considered as stop words"
   ]
  },
  {
   "cell_type": "code",
   "execution_count": 32,
   "metadata": {
    "execution": {
     "iopub.execute_input": "2023-03-23T00:12:48.389545Z",
     "iopub.status.busy": "2023-03-23T00:12:48.388994Z",
     "iopub.status.idle": "2023-03-23T00:12:51.079800Z",
     "shell.execute_reply": "2023-03-23T00:12:51.078467Z",
     "shell.execute_reply.started": "2023-03-23T00:12:48.389499Z"
    }
   },
   "outputs": [
    {
     "name": "stderr",
     "output_type": "stream",
     "text": [
      "[nltk_data] Downloading package stopwords to\n",
      "[nltk_data]     C:\\Users\\Pokie\\AppData\\Roaming\\nltk_data...\n",
      "[nltk_data]   Package stopwords is already up-to-date!\n"
     ]
    },
    {
     "data": {
      "text/html": [
       "<div>\n",
       "<style scoped>\n",
       "    .dataframe tbody tr th:only-of-type {\n",
       "        vertical-align: middle;\n",
       "    }\n",
       "\n",
       "    .dataframe tbody tr th {\n",
       "        vertical-align: top;\n",
       "    }\n",
       "\n",
       "    .dataframe thead th {\n",
       "        text-align: right;\n",
       "    }\n",
       "</style>\n",
       "<table border=\"1\" class=\"dataframe\">\n",
       "  <thead>\n",
       "    <tr style=\"text-align: right;\">\n",
       "      <th></th>\n",
       "      <th>id</th>\n",
       "      <th>comment_text</th>\n",
       "      <th>toxic</th>\n",
       "      <th>severe_toxic</th>\n",
       "      <th>obscene</th>\n",
       "      <th>threat</th>\n",
       "      <th>insult</th>\n",
       "      <th>identity_hate</th>\n",
       "      <th>text_clean</th>\n",
       "      <th>tokenized</th>\n",
       "      <th>stopwords_removed</th>\n",
       "    </tr>\n",
       "  </thead>\n",
       "  <tbody>\n",
       "    <tr>\n",
       "      <th>0</th>\n",
       "      <td>0000997932d777bf</td>\n",
       "      <td>Explanation\\nWhy the edits made under my usern...</td>\n",
       "      <td>0</td>\n",
       "      <td>0</td>\n",
       "      <td>0</td>\n",
       "      <td>0</td>\n",
       "      <td>0</td>\n",
       "      <td>0</td>\n",
       "      <td>explanation\\nwhy the edits made under my usern...</td>\n",
       "      <td>[explanation, why, the, edits, made, under, my...</td>\n",
       "      <td>[explanation, edits, made, username, hardcore,...</td>\n",
       "    </tr>\n",
       "    <tr>\n",
       "      <th>1</th>\n",
       "      <td>000103f0d9cfb60f</td>\n",
       "      <td>D'aww! He matches this background colour I'm s...</td>\n",
       "      <td>0</td>\n",
       "      <td>0</td>\n",
       "      <td>0</td>\n",
       "      <td>0</td>\n",
       "      <td>0</td>\n",
       "      <td>0</td>\n",
       "      <td>daww he matches this background colour i am se...</td>\n",
       "      <td>[daww, he, matches, this, background, colour, ...</td>\n",
       "      <td>[daww, matches, background, colour, seemingly,...</td>\n",
       "    </tr>\n",
       "    <tr>\n",
       "      <th>2</th>\n",
       "      <td>000113f07ec002fd</td>\n",
       "      <td>Hey man, I'm really not trying to edit war. It...</td>\n",
       "      <td>0</td>\n",
       "      <td>0</td>\n",
       "      <td>0</td>\n",
       "      <td>0</td>\n",
       "      <td>0</td>\n",
       "      <td>0</td>\n",
       "      <td>hey man i am really not trying to edit war it ...</td>\n",
       "      <td>[hey, man, i, am, really, not, trying, to, edi...</td>\n",
       "      <td>[hey, man, really, trying, edit, war, guy, con...</td>\n",
       "    </tr>\n",
       "    <tr>\n",
       "      <th>3</th>\n",
       "      <td>0001b41b1c6bb37e</td>\n",
       "      <td>\"\\nMore\\nI can't make any real suggestions on ...</td>\n",
       "      <td>0</td>\n",
       "      <td>0</td>\n",
       "      <td>0</td>\n",
       "      <td>0</td>\n",
       "      <td>0</td>\n",
       "      <td>0</td>\n",
       "      <td>\\nmore\\ni cannot make any real suggestions on ...</td>\n",
       "      <td>[more, i, can, not, make, any, real, suggestio...</td>\n",
       "      <td>[make, real, suggestions, improvement, wondere...</td>\n",
       "    </tr>\n",
       "    <tr>\n",
       "      <th>4</th>\n",
       "      <td>0001d958c54c6e35</td>\n",
       "      <td>You, sir, are my hero. Any chance you remember...</td>\n",
       "      <td>0</td>\n",
       "      <td>0</td>\n",
       "      <td>0</td>\n",
       "      <td>0</td>\n",
       "      <td>0</td>\n",
       "      <td>0</td>\n",
       "      <td>you sir are my hero any chance you remember wh...</td>\n",
       "      <td>[you, sir, are, my, hero, any, chance, you, re...</td>\n",
       "      <td>[sir, hero, chance, remember, page]</td>\n",
       "    </tr>\n",
       "  </tbody>\n",
       "</table>\n",
       "</div>"
      ],
      "text/plain": [
       "                 id                                       comment_text  toxic  \\\n",
       "0  0000997932d777bf  Explanation\\nWhy the edits made under my usern...      0   \n",
       "1  000103f0d9cfb60f  D'aww! He matches this background colour I'm s...      0   \n",
       "2  000113f07ec002fd  Hey man, I'm really not trying to edit war. It...      0   \n",
       "3  0001b41b1c6bb37e  \"\\nMore\\nI can't make any real suggestions on ...      0   \n",
       "4  0001d958c54c6e35  You, sir, are my hero. Any chance you remember...      0   \n",
       "\n",
       "   severe_toxic  obscene  threat  insult  identity_hate  \\\n",
       "0             0        0       0       0              0   \n",
       "1             0        0       0       0              0   \n",
       "2             0        0       0       0              0   \n",
       "3             0        0       0       0              0   \n",
       "4             0        0       0       0              0   \n",
       "\n",
       "                                          text_clean  \\\n",
       "0  explanation\\nwhy the edits made under my usern...   \n",
       "1  daww he matches this background colour i am se...   \n",
       "2  hey man i am really not trying to edit war it ...   \n",
       "3  \\nmore\\ni cannot make any real suggestions on ...   \n",
       "4  you sir are my hero any chance you remember wh...   \n",
       "\n",
       "                                           tokenized  \\\n",
       "0  [explanation, why, the, edits, made, under, my...   \n",
       "1  [daww, he, matches, this, background, colour, ...   \n",
       "2  [hey, man, i, am, really, not, trying, to, edi...   \n",
       "3  [more, i, can, not, make, any, real, suggestio...   \n",
       "4  [you, sir, are, my, hero, any, chance, you, re...   \n",
       "\n",
       "                                   stopwords_removed  \n",
       "0  [explanation, edits, made, username, hardcore,...  \n",
       "1  [daww, matches, background, colour, seemingly,...  \n",
       "2  [hey, man, really, trying, edit, war, guy, con...  \n",
       "3  [make, real, suggestions, improvement, wondere...  \n",
       "4                [sir, hero, chance, remember, page]  "
      ]
     },
     "execution_count": 32,
     "metadata": {},
     "output_type": "execute_result"
    }
   ],
   "source": [
    "# Removing stopwords.\n",
    "nltk.download(\"stopwords\")\n",
    "from nltk.corpus import stopwords\n",
    "\n",
    "stop = set(stopwords.words('english'))\n",
    "train_df['stopwords_removed'] = train_df['tokenized'].apply(lambda x: [word for word in x if word not in stop])\n",
    "train_df.head()"
   ]
  },
  {
   "cell_type": "markdown",
   "metadata": {},
   "source": [
    "### 3. Stemming\n",
    "Stemming is a process of extracting a root word - identifying a common stem among various forms (e.g., singular and plural noun form) of a word, for example, the words \"gardening\", \"gardener\" or \"gardens\" share the same stem, garden. Stemming uproots suffixes from words to merge words with similar meanings under their standard stem.\n",
    "\n",
    "There are three major stemming algorithms in use nowadays:\n",
    "\n",
    "- Porter - PorterStemmer()): This stemming algorithm is an older one. It’s from the 1980s and its main concern is removing the common endings to words so that they can be resolved to a common form. It’s not too complex and development on it is frozen. Typically, it’s a nice starting basic stemmer, but it’s not really advised to use it for any production/complex application. Instead, it has its place in research as a nice, basic stemming algorithm that can guarantee reproducibility. It also is a very gentle stemming algorithm when compared to others.\n",
    "\n",
    "- Snowball - LancasterStemmer(): This algorithm is also known as the Porter2 stemming algorithm. It is almost universally accepted as better than the Porter stemmer, even being acknowledged as such by the individual who created the Porter stemmer. That being said, it is also more aggressive than the Porter stemmer. A lot of the things added to the Snowball stemmer were because of issues noticed with the Porter stemmer. There is about a 5% difference in the way that Snowball stems versus Porter.\n",
    "\n",
    "- Lancaster - SnowballStemmer(): Just for fun, the Lancaster stemming algorithm is another algorithm that you can use. This one is the most aggressive stemming algorithm of the bunch. However, if you use the stemmer in NLTK, you can add your own custom rules to this algorithm very easily. It’s a good choice for that. One complaint around this stemming algorithm though is that it sometimes is overly aggressive and can really transform words into strange stems. Just make sure it does what you want it to before you go with this option!"
   ]
  },
  {
   "cell_type": "markdown",
   "metadata": {},
   "source": [
    "#### Snowball \n",
    "The Stemming Algorithm that our group is using for data Processing"
   ]
  },
  {
   "cell_type": "code",
   "execution_count": 33,
   "metadata": {
    "execution": {
     "iopub.execute_input": "2023-03-23T00:17:51.198949Z",
     "iopub.status.busy": "2023-03-23T00:17:51.197605Z",
     "iopub.status.idle": "2023-03-23T00:17:51.206217Z",
     "shell.execute_reply": "2023-03-23T00:17:51.204510Z",
     "shell.execute_reply.started": "2023-03-23T00:17:51.198896Z"
    }
   },
   "outputs": [],
   "source": [
    "from nltk.stem import SnowballStemmer\n",
    "\n",
    "def snowball_stemmer(text):\n",
    "    \"\"\"\n",
    "        Stem words in list of tokenized words with SnowballStemmer\n",
    "    \"\"\"\n",
    "    stemmer = nltk.SnowballStemmer(\"english\")\n",
    "    stems = [stemmer.stem(i) for i in text]\n",
    "    return stems"
   ]
  },
  {
   "cell_type": "code",
   "execution_count": 34,
   "metadata": {
    "execution": {
     "iopub.execute_input": "2023-03-23T00:18:02.213634Z",
     "iopub.status.busy": "2023-03-23T00:18:02.212747Z",
     "iopub.status.idle": "2023-03-23T00:19:30.633190Z",
     "shell.execute_reply": "2023-03-23T00:19:30.632013Z",
     "shell.execute_reply.started": "2023-03-23T00:18:02.213584Z"
    }
   },
   "outputs": [
    {
     "data": {
      "text/html": [
       "<div>\n",
       "<style scoped>\n",
       "    .dataframe tbody tr th:only-of-type {\n",
       "        vertical-align: middle;\n",
       "    }\n",
       "\n",
       "    .dataframe tbody tr th {\n",
       "        vertical-align: top;\n",
       "    }\n",
       "\n",
       "    .dataframe thead th {\n",
       "        text-align: right;\n",
       "    }\n",
       "</style>\n",
       "<table border=\"1\" class=\"dataframe\">\n",
       "  <thead>\n",
       "    <tr style=\"text-align: right;\">\n",
       "      <th></th>\n",
       "      <th>id</th>\n",
       "      <th>comment_text</th>\n",
       "      <th>toxic</th>\n",
       "      <th>severe_toxic</th>\n",
       "      <th>obscene</th>\n",
       "      <th>threat</th>\n",
       "      <th>insult</th>\n",
       "      <th>identity_hate</th>\n",
       "      <th>text_clean</th>\n",
       "      <th>tokenized</th>\n",
       "      <th>stopwords_removed</th>\n",
       "      <th>snowball_stemmer</th>\n",
       "    </tr>\n",
       "  </thead>\n",
       "  <tbody>\n",
       "    <tr>\n",
       "      <th>0</th>\n",
       "      <td>0000997932d777bf</td>\n",
       "      <td>Explanation\\nWhy the edits made under my usern...</td>\n",
       "      <td>0</td>\n",
       "      <td>0</td>\n",
       "      <td>0</td>\n",
       "      <td>0</td>\n",
       "      <td>0</td>\n",
       "      <td>0</td>\n",
       "      <td>explanation\\nwhy the edits made under my usern...</td>\n",
       "      <td>[explanation, why, the, edits, made, under, my...</td>\n",
       "      <td>[explanation, edits, made, username, hardcore,...</td>\n",
       "      <td>[explan, edit, made, usernam, hardcor, metalli...</td>\n",
       "    </tr>\n",
       "    <tr>\n",
       "      <th>1</th>\n",
       "      <td>000103f0d9cfb60f</td>\n",
       "      <td>D'aww! He matches this background colour I'm s...</td>\n",
       "      <td>0</td>\n",
       "      <td>0</td>\n",
       "      <td>0</td>\n",
       "      <td>0</td>\n",
       "      <td>0</td>\n",
       "      <td>0</td>\n",
       "      <td>daww he matches this background colour i am se...</td>\n",
       "      <td>[daww, he, matches, this, background, colour, ...</td>\n",
       "      <td>[daww, matches, background, colour, seemingly,...</td>\n",
       "      <td>[daww, match, background, colour, seem, stuck,...</td>\n",
       "    </tr>\n",
       "    <tr>\n",
       "      <th>2</th>\n",
       "      <td>000113f07ec002fd</td>\n",
       "      <td>Hey man, I'm really not trying to edit war. It...</td>\n",
       "      <td>0</td>\n",
       "      <td>0</td>\n",
       "      <td>0</td>\n",
       "      <td>0</td>\n",
       "      <td>0</td>\n",
       "      <td>0</td>\n",
       "      <td>hey man i am really not trying to edit war it ...</td>\n",
       "      <td>[hey, man, i, am, really, not, trying, to, edi...</td>\n",
       "      <td>[hey, man, really, trying, edit, war, guy, con...</td>\n",
       "      <td>[hey, man, realli, tri, edit, war, guy, consta...</td>\n",
       "    </tr>\n",
       "    <tr>\n",
       "      <th>3</th>\n",
       "      <td>0001b41b1c6bb37e</td>\n",
       "      <td>\"\\nMore\\nI can't make any real suggestions on ...</td>\n",
       "      <td>0</td>\n",
       "      <td>0</td>\n",
       "      <td>0</td>\n",
       "      <td>0</td>\n",
       "      <td>0</td>\n",
       "      <td>0</td>\n",
       "      <td>\\nmore\\ni cannot make any real suggestions on ...</td>\n",
       "      <td>[more, i, can, not, make, any, real, suggestio...</td>\n",
       "      <td>[make, real, suggestions, improvement, wondere...</td>\n",
       "      <td>[make, real, suggest, improv, wonder, section,...</td>\n",
       "    </tr>\n",
       "    <tr>\n",
       "      <th>4</th>\n",
       "      <td>0001d958c54c6e35</td>\n",
       "      <td>You, sir, are my hero. Any chance you remember...</td>\n",
       "      <td>0</td>\n",
       "      <td>0</td>\n",
       "      <td>0</td>\n",
       "      <td>0</td>\n",
       "      <td>0</td>\n",
       "      <td>0</td>\n",
       "      <td>you sir are my hero any chance you remember wh...</td>\n",
       "      <td>[you, sir, are, my, hero, any, chance, you, re...</td>\n",
       "      <td>[sir, hero, chance, remember, page]</td>\n",
       "      <td>[sir, hero, chanc, rememb, page]</td>\n",
       "    </tr>\n",
       "  </tbody>\n",
       "</table>\n",
       "</div>"
      ],
      "text/plain": [
       "                 id                                       comment_text  toxic  \\\n",
       "0  0000997932d777bf  Explanation\\nWhy the edits made under my usern...      0   \n",
       "1  000103f0d9cfb60f  D'aww! He matches this background colour I'm s...      0   \n",
       "2  000113f07ec002fd  Hey man, I'm really not trying to edit war. It...      0   \n",
       "3  0001b41b1c6bb37e  \"\\nMore\\nI can't make any real suggestions on ...      0   \n",
       "4  0001d958c54c6e35  You, sir, are my hero. Any chance you remember...      0   \n",
       "\n",
       "   severe_toxic  obscene  threat  insult  identity_hate  \\\n",
       "0             0        0       0       0              0   \n",
       "1             0        0       0       0              0   \n",
       "2             0        0       0       0              0   \n",
       "3             0        0       0       0              0   \n",
       "4             0        0       0       0              0   \n",
       "\n",
       "                                          text_clean  \\\n",
       "0  explanation\\nwhy the edits made under my usern...   \n",
       "1  daww he matches this background colour i am se...   \n",
       "2  hey man i am really not trying to edit war it ...   \n",
       "3  \\nmore\\ni cannot make any real suggestions on ...   \n",
       "4  you sir are my hero any chance you remember wh...   \n",
       "\n",
       "                                           tokenized  \\\n",
       "0  [explanation, why, the, edits, made, under, my...   \n",
       "1  [daww, he, matches, this, background, colour, ...   \n",
       "2  [hey, man, i, am, really, not, trying, to, edi...   \n",
       "3  [more, i, can, not, make, any, real, suggestio...   \n",
       "4  [you, sir, are, my, hero, any, chance, you, re...   \n",
       "\n",
       "                                   stopwords_removed  \\\n",
       "0  [explanation, edits, made, username, hardcore,...   \n",
       "1  [daww, matches, background, colour, seemingly,...   \n",
       "2  [hey, man, really, trying, edit, war, guy, con...   \n",
       "3  [make, real, suggestions, improvement, wondere...   \n",
       "4                [sir, hero, chance, remember, page]   \n",
       "\n",
       "                                    snowball_stemmer  \n",
       "0  [explan, edit, made, usernam, hardcor, metalli...  \n",
       "1  [daww, match, background, colour, seem, stuck,...  \n",
       "2  [hey, man, realli, tri, edit, war, guy, consta...  \n",
       "3  [make, real, suggest, improv, wonder, section,...  \n",
       "4                   [sir, hero, chanc, rememb, page]  "
      ]
     },
     "execution_count": 34,
     "metadata": {},
     "output_type": "execute_result"
    }
   ],
   "source": [
    "train_df['snowball_stemmer'] = train_df['stopwords_removed'].apply(lambda x: snowball_stemmer(x))\n",
    "train_df.head()"
   ]
  },
  {
   "cell_type": "code",
   "execution_count": 35,
   "metadata": {},
   "outputs": [],
   "source": [
    "data = train_df.loc[train_df['id'] == '0109e81b7ab2b70e']"
   ]
  },
  {
   "cell_type": "code",
   "execution_count": 36,
   "metadata": {},
   "outputs": [
    {
     "data": {
      "text/plain": [
       "416    [bulgar, oh, god, admin, protect, peopl, vandalis, bulgar, articl, attack, panslav, ultranationalist, want, see, word, begin, turk, help, remov, reliabl, sourc, old, bulgar, chang, slav, hand, great]\n",
       "Name: snowball_stemmer, dtype: object"
      ]
     },
     "metadata": {},
     "output_type": "display_data"
    }
   ],
   "source": [
    "text = data['snowball_stemmer']\n",
    "\n",
    "with pd.option_context('display.max_colwidth', None):\n",
    "    display(text)"
   ]
  },
  {
   "cell_type": "code",
   "execution_count": null,
   "metadata": {},
   "outputs": [],
   "source": []
  },
  {
   "cell_type": "code",
   "execution_count": null,
   "metadata": {},
   "outputs": [],
   "source": []
  },
  {
   "cell_type": "markdown",
   "metadata": {},
   "source": [
    "## RNN Model"
   ]
  },
  {
   "cell_type": "code",
   "execution_count": 37,
   "metadata": {},
   "outputs": [],
   "source": [
    "#Note: NEED to Install Tensorflow and Keras to run this Segment\n",
    "#Brenda, Linh NO JUDGING ME\n",
    "import keras\n",
    "from keras.preprocessing.text import Tokenizer\n",
    "from tensorflow.keras.preprocessing.sequence import pad_sequences\n",
    "from keras.layers import Dense, Input, LSTM, Embedding, Dropout, Activation, GlobalMaxPool1D\n",
    "from keras.models import Model\n",
    "from keras import initializers, regularizers, constraints, optimizers, layers\n",
    "from keras.callbacks import EarlyStopping\n"
   ]
  },
  {
   "cell_type": "code",
   "execution_count": 38,
   "metadata": {},
   "outputs": [],
   "source": [
    "#Setting up the Hyperparameters\n",
    "MAX_FEATURES = 15000\n",
    "MAX_TEXT_LENGTH = 200 #due to word reduction from text normalization\n",
    "BATCH_SIZE = 32\n",
    "EPOCHS = 8\n",
    "CLASSES_LIST = [\"toxic\", \"severe_toxic\", \"obscene\", \"threat\", \"insult\", \"identity_hate\"]\n"
   ]
  },
  {
   "cell_type": "code",
   "execution_count": 39,
   "metadata": {},
   "outputs": [],
   "source": [
    "#Isolating the Preprocessed Data from train_df\n",
    "train_X = train_df['snowball_stemmer']\n",
    "#Merging 6 columns into 1\n",
    "y = train_df[CLASSES_LIST].values"
   ]
  },
  {
   "cell_type": "code",
   "execution_count": 40,
   "metadata": {},
   "outputs": [
    {
     "data": {
      "text/plain": [
       "0    [explan, edit, made, usernam, hardcor, metalli...\n",
       "1    [daww, match, background, colour, seem, stuck,...\n",
       "2    [hey, man, realli, tri, edit, war, guy, consta...\n",
       "3    [make, real, suggest, improv, wonder, section,...\n",
       "4                     [sir, hero, chanc, rememb, page]\n",
       "Name: snowball_stemmer, dtype: object"
      ]
     },
     "execution_count": 40,
     "metadata": {},
     "output_type": "execute_result"
    }
   ],
   "source": [
    "train_X.head()"
   ]
  },
  {
   "cell_type": "code",
   "execution_count": 41,
   "metadata": {},
   "outputs": [
    {
     "data": {
      "text/plain": [
       "(pandas.core.series.Series, numpy.ndarray)"
      ]
     },
     "execution_count": 41,
     "metadata": {},
     "output_type": "execute_result"
    }
   ],
   "source": [
    "#CHecking the typings\n",
    "type(train_X), type(y)"
   ]
  },
  {
   "cell_type": "code",
   "execution_count": 42,
   "metadata": {},
   "outputs": [],
   "source": [
    "#Tokenizing the words into numbers\n",
    "tokenizer = Tokenizer(num_words=MAX_FEATURES)\n",
    "tokenizer.fit_on_texts(list(train_X))\n",
    "list_tokenized_train = tokenizer.texts_to_sequences(train_X)"
   ]
  },
  {
   "cell_type": "code",
   "execution_count": 43,
   "metadata": {},
   "outputs": [
    {
     "name": "stdout",
     "output_type": "stream",
     "text": [
      "[[491, 3, 69, 530, 3500, 8049, 743, 67, 62, 4545, 2154, 453, 61, 928, 7926, 2166, 10, 28, 234, 7, 2, 78, 1788]]\n"
     ]
    }
   ],
   "source": [
    "print(list_tokenized_train[:1])"
   ]
  },
  {
   "cell_type": "code",
   "execution_count": 44,
   "metadata": {},
   "outputs": [
    {
     "data": {
      "text/plain": [
       "array([[   0,    0,    0, ...,    2,   78, 1788],\n",
       "       [   0,    0,    0, ...,  109,   73,   12],\n",
       "       [   0,    0,    0, ...,  610,   96,  394],\n",
       "       ...,\n",
       "       [   0,    0,    0, ..., 2197, 8680, 3031],\n",
       "       [   0,    0,    0, ...,  240,   11,   34],\n",
       "       [   0,    0,    0, ...,  266,   39, 1133]])"
      ]
     },
     "execution_count": 44,
     "metadata": {},
     "output_type": "execute_result"
    }
   ],
   "source": [
    "#pads the sequences to all be the same array length\n",
    "train_X = pad_sequences(list_tokenized_train, maxlen=MAX_TEXT_LENGTH)\n",
    "train_X"
   ]
  },
  {
   "cell_type": "code",
   "execution_count": 45,
   "metadata": {},
   "outputs": [],
   "source": [
    "#MODEL ESTABLISHED\n",
    "embed_size = 128\n",
    "\n",
    "inp = Input(shape=(MAX_TEXT_LENGTH, ))\n",
    "x = Embedding(MAX_FEATURES, embed_size)(inp)\n",
    "x = LSTM(60, return_sequences=True,name='lstm_layer')(x)\n",
    "x = GlobalMaxPool1D()(x)\n",
    "x = Dropout(0.1)(x)\n",
    "x = Dense(50, activation=\"relu\")(x)\n",
    "x = Dropout(0.1)(x)\n",
    "x = Dense(6, activation=\"sigmoid\")(x)\n",
    "\n",
    "# embed_size = 128\n",
    "# inp = Input(shape=(MAX_TEXT_LENGTH, ))\n",
    "# main = Embedding(MAX_FEATURES, embed_size)(inp)\n",
    "# main = LSTM(60, return_sequences=True, name='lstm_layer')(main)\n",
    "# main = GlobalMaxPool1D()(main)\n",
    "# main = Dropout(.1)(main)\n",
    "# main = Dense(50, activation=\"relu\")(main)\n",
    "# main = Dropout(.1)(main)\n",
    "# main = Dense(6, activation=\"sigmoid\")(main)\n",
    "# model = Model(inputs=inp, outputs=main)\n",
    "# model.compile(loss='binary_crossentropy', optimizer='adam', metrics=['accuracy'])\n",
    "\n"
   ]
  },
  {
   "cell_type": "code",
   "execution_count": 46,
   "metadata": {},
   "outputs": [],
   "source": [
    "model = Model(inputs=inp, outputs=x)\n",
    "model.compile(loss='binary_crossentropy',\n",
    "                  optimizer='adam',\n",
    "                  metrics=['accuracy'])"
   ]
  },
  {
   "cell_type": "code",
   "execution_count": 47,
   "metadata": {},
   "outputs": [
    {
     "name": "stdout",
     "output_type": "stream",
     "text": [
      "Epoch 1/8\n",
      "3990/3990 [==============================] - 341s 85ms/step - loss: 0.0744 - accuracy: 0.9376 - val_loss: 0.0516 - val_accuracy: 0.9941\n",
      "Epoch 2/8\n",
      "3990/3990 [==============================] - 334s 84ms/step - loss: 0.0471 - accuracy: 0.9910 - val_loss: 0.0494 - val_accuracy: 0.9931\n",
      "Epoch 3/8\n",
      "3990/3990 [==============================] - 336s 84ms/step - loss: 0.0414 - accuracy: 0.9889 - val_loss: 0.0513 - val_accuracy: 0.9940\n",
      "Epoch 4/8\n",
      "3990/3990 [==============================] - 341s 85ms/step - loss: 0.0370 - accuracy: 0.9811 - val_loss: 0.0505 - val_accuracy: 0.9909\n"
     ]
    }
   ],
   "source": [
    "early = EarlyStopping(monitor=\"val_loss\", mode=\"min\", patience=2)\n",
    "history = model.fit(train_X,y, batch_size=BATCH_SIZE, epochs=EPOCHS, \n",
    "                    validation_split=0.2, verbose =1, callbacks=[early])\n",
    "#validation split was .1"
   ]
  },
  {
   "cell_type": "code",
   "execution_count": 48,
   "metadata": {},
   "outputs": [
    {
     "name": "stdout",
     "output_type": "stream",
     "text": [
      "Model: \"model\"\n",
      "_________________________________________________________________\n",
      " Layer (type)                Output Shape              Param #   \n",
      "=================================================================\n",
      " input_1 (InputLayer)        [(None, 200)]             0         \n",
      "                                                                 \n",
      " embedding (Embedding)       (None, 200, 128)          1920000   \n",
      "                                                                 \n",
      " lstm_layer (LSTM)           (None, 200, 60)           45360     \n",
      "                                                                 \n",
      " global_max_pooling1d (Globa  (None, 60)               0         \n",
      " lMaxPooling1D)                                                  \n",
      "                                                                 \n",
      " dropout (Dropout)           (None, 60)                0         \n",
      "                                                                 \n",
      " dense (Dense)               (None, 50)                3050      \n",
      "                                                                 \n",
      " dropout_1 (Dropout)         (None, 50)                0         \n",
      "                                                                 \n",
      " dense_1 (Dense)             (None, 6)                 306       \n",
      "                                                                 \n",
      "=================================================================\n",
      "Total params: 1,968,716\n",
      "Trainable params: 1,968,716\n",
      "Non-trainable params: 0\n",
      "_________________________________________________________________\n"
     ]
    }
   ],
   "source": [
    "model.summary()"
   ]
  },
  {
   "cell_type": "code",
   "execution_count": 49,
   "metadata": {},
   "outputs": [
    {
     "data": {
      "image/png": "[encoded data removed]",
      "text/plain": [
       "<Figure size 640x480 with 1 Axes>"
      ]
     },
     "metadata": {},
     "output_type": "display_data"
    }
   ],
   "source": [
    "plt.plot(history.history['accuracy'])\n",
    "plt.plot(history.history['val_accuracy'])\n",
    "plt.title('LSTM Model Accuracy')\n",
    "plt.ylabel('Accuracy')\n",
    "plt.xlabel('Epoch')\n",
    "plt.legend(['train', 'val'], loc='upper left')\n",
    "\n",
    "plt.show()\n"
   ]
  },
  {
   "cell_type": "code",
   "execution_count": 50,
   "metadata": {},
   "outputs": [
    {
     "data": {
      "image/png": "[encoded data removed]",
      "text/plain": [
       "<Figure size 640x480 with 1 Axes>"
      ]
     },
     "metadata": {},
     "output_type": "display_data"
    }
   ],
   "source": [
    "plt.plot(history.history['loss'])\n",
    "plt.plot(history.history['val_loss'])\n",
    "plt.title('LSTM Model Loss')\n",
    "plt.ylabel('Loss')\n",
    "plt.xlabel('Epoch')\n",
    "plt.legend(['train', 'val'], loc='upper left')\n",
    "plt.show()"
   ]
  },
  {
   "cell_type": "markdown",
   "metadata": {},
   "source": [
    "## Test Data\n",
    "Setting up the data to evaluate it"
   ]
  },
  {
   "cell_type": "code",
   "execution_count": 51,
   "metadata": {},
   "outputs": [
    {
     "data": {
      "text/plain": [
       "(153164, 7)"
      ]
     },
     "metadata": {},
     "output_type": "display_data"
    },
    {
     "data": {
      "text/html": [
       "<div>\n",
       "<style scoped>\n",
       "    .dataframe tbody tr th:only-of-type {\n",
       "        vertical-align: middle;\n",
       "    }\n",
       "\n",
       "    .dataframe tbody tr th {\n",
       "        vertical-align: top;\n",
       "    }\n",
       "\n",
       "    .dataframe thead th {\n",
       "        text-align: right;\n",
       "    }\n",
       "</style>\n",
       "<table border=\"1\" class=\"dataframe\">\n",
       "  <thead>\n",
       "    <tr style=\"text-align: right;\">\n",
       "      <th></th>\n",
       "      <th>id</th>\n",
       "      <th>comment_text</th>\n",
       "      <th>text_clean</th>\n",
       "      <th>tokenized</th>\n",
       "      <th>stopwords_removed</th>\n",
       "      <th>snowball_stemmer</th>\n",
       "      <th>lancaster_stemmer</th>\n",
       "    </tr>\n",
       "  </thead>\n",
       "  <tbody>\n",
       "    <tr>\n",
       "      <th>0</th>\n",
       "      <td>00001cee341fdb12</td>\n",
       "      <td>Yo bitch Ja Rule is more succesful then you'll...</td>\n",
       "      <td>yo bitch ja rule is more succesful then you wi...</td>\n",
       "      <td>['yo', 'bitch', 'ja', 'rule', 'is', 'more', 's...</td>\n",
       "      <td>['yo', 'bitch', 'ja', 'rule', 'succesful', 'ev...</td>\n",
       "      <td>['yo', 'bitch', 'ja', 'rule', 'succes', 'ever'...</td>\n",
       "      <td>['yo', 'bitch', 'ja', 'rul', 'succes', 'ev', '...</td>\n",
       "    </tr>\n",
       "    <tr>\n",
       "      <th>1</th>\n",
       "      <td>0000247867823ef7</td>\n",
       "      <td>== From RfC == \\n\\n The title is fine as it is...</td>\n",
       "      <td>from rfc  \\n\\n the title is fine as it is i a...</td>\n",
       "      <td>['from', 'rfc', 'the', 'title', 'is', 'fine', ...</td>\n",
       "      <td>['rfc', 'title', 'fine', 'going']</td>\n",
       "      <td>['rfc', 'titl', 'fine', 'go']</td>\n",
       "      <td>['rfc', 'titl', 'fin', 'going']</td>\n",
       "    </tr>\n",
       "    <tr>\n",
       "      <th>2</th>\n",
       "      <td>00013b17ad220c46</td>\n",
       "      <td>\" \\n\\n == Sources == \\n\\n * Zawe Ashton on Lap...</td>\n",
       "      <td>\\n\\n  sources  \\n\\n  zawe ashton on lapland</td>\n",
       "      <td>['sources', 'zawe', 'ashton', 'on', 'lapland']</td>\n",
       "      <td>['sources', 'zawe', 'ashton', 'lapland']</td>\n",
       "      <td>['sourc', 'zaw', 'ashton', 'lapland']</td>\n",
       "      <td>['sourc', 'zaw', 'ashton', 'lapland']</td>\n",
       "    </tr>\n",
       "    <tr>\n",
       "      <th>3</th>\n",
       "      <td>00017563c3f7919a</td>\n",
       "      <td>:If you have a look back at the source, the in...</td>\n",
       "      <td>if you have a look back at the source the info...</td>\n",
       "      <td>['if', 'you', 'have', 'a', 'look', 'back', 'at...</td>\n",
       "      <td>['look', 'back', 'source', 'information', 'upd...</td>\n",
       "      <td>['look', 'back', 'sourc', 'inform', 'updat', '...</td>\n",
       "      <td>['look', 'back', 'sourc', 'inform', 'upd', 'co...</td>\n",
       "    </tr>\n",
       "    <tr>\n",
       "      <th>4</th>\n",
       "      <td>00017695ad8997eb</td>\n",
       "      <td>I don't anonymously edit articles at all.</td>\n",
       "      <td>i do not anonymously edit articles at all</td>\n",
       "      <td>['i', 'do', 'not', 'anonymously', 'edit', 'art...</td>\n",
       "      <td>['anonymously', 'edit', 'articles']</td>\n",
       "      <td>['anonym', 'edit', 'articl']</td>\n",
       "      <td>['anonym', 'edit', 'artic']</td>\n",
       "    </tr>\n",
       "  </tbody>\n",
       "</table>\n",
       "</div>"
      ],
      "text/plain": [
       "                 id                                       comment_text  \\\n",
       "0  00001cee341fdb12  Yo bitch Ja Rule is more succesful then you'll...   \n",
       "1  0000247867823ef7  == From RfC == \\n\\n The title is fine as it is...   \n",
       "2  00013b17ad220c46  \" \\n\\n == Sources == \\n\\n * Zawe Ashton on Lap...   \n",
       "3  00017563c3f7919a  :If you have a look back at the source, the in...   \n",
       "4  00017695ad8997eb          I don't anonymously edit articles at all.   \n",
       "\n",
       "                                          text_clean  \\\n",
       "0  yo bitch ja rule is more succesful then you wi...   \n",
       "1   from rfc  \\n\\n the title is fine as it is i a...   \n",
       "2   \\n\\n  sources  \\n\\n  zawe ashton on lapland        \n",
       "3  if you have a look back at the source the info...   \n",
       "4          i do not anonymously edit articles at all   \n",
       "\n",
       "                                           tokenized  \\\n",
       "0  ['yo', 'bitch', 'ja', 'rule', 'is', 'more', 's...   \n",
       "1  ['from', 'rfc', 'the', 'title', 'is', 'fine', ...   \n",
       "2     ['sources', 'zawe', 'ashton', 'on', 'lapland']   \n",
       "3  ['if', 'you', 'have', 'a', 'look', 'back', 'at...   \n",
       "4  ['i', 'do', 'not', 'anonymously', 'edit', 'art...   \n",
       "\n",
       "                                   stopwords_removed  \\\n",
       "0  ['yo', 'bitch', 'ja', 'rule', 'succesful', 'ev...   \n",
       "1                  ['rfc', 'title', 'fine', 'going']   \n",
       "2           ['sources', 'zawe', 'ashton', 'lapland']   \n",
       "3  ['look', 'back', 'source', 'information', 'upd...   \n",
       "4                ['anonymously', 'edit', 'articles']   \n",
       "\n",
       "                                    snowball_stemmer  \\\n",
       "0  ['yo', 'bitch', 'ja', 'rule', 'succes', 'ever'...   \n",
       "1                      ['rfc', 'titl', 'fine', 'go']   \n",
       "2              ['sourc', 'zaw', 'ashton', 'lapland']   \n",
       "3  ['look', 'back', 'sourc', 'inform', 'updat', '...   \n",
       "4                       ['anonym', 'edit', 'articl']   \n",
       "\n",
       "                                   lancaster_stemmer  \n",
       "0  ['yo', 'bitch', 'ja', 'rul', 'succes', 'ev', '...  \n",
       "1                    ['rfc', 'titl', 'fin', 'going']  \n",
       "2              ['sourc', 'zaw', 'ashton', 'lapland']  \n",
       "3  ['look', 'back', 'sourc', 'inform', 'upd', 'co...  \n",
       "4                        ['anonym', 'edit', 'artic']  "
      ]
     },
     "metadata": {},
     "output_type": "display_data"
    }
   ],
   "source": [
    "test_df = pd.read_csv(r'C:\\Users\\Pokie\\Documents\\Grad_School\\273P_ML_Project\\cleanedtest.csv')\n",
    "display(test_df.shape, test_df.head())\n",
    "#score = model.evaluate(x_test, y_test, batch_size=batch_size)"
   ]
  },
  {
   "cell_type": "code",
   "execution_count": 52,
   "metadata": {},
   "outputs": [],
   "source": [
    "test = test_df['snowball_stemmer']\n",
    "\n",
    "tokenizer = Tokenizer(num_words=MAX_FEATURES)\n",
    "tokenizer.fit_on_texts(list(test))\n",
    "list_tokenized_test = tokenizer.texts_to_sequences(test)"
   ]
  },
  {
   "cell_type": "code",
   "execution_count": 53,
   "metadata": {},
   "outputs": [
    {
     "data": {
      "text/plain": [
       "array([[   0,    0,    0, ...,   72,  387,   14],\n",
       "       [   0,    0,    0, ...,  204,  525,   21],\n",
       "       [   0,    0,    0, ...,    0,   12, 8764],\n",
       "       ...,\n",
       "       [   0,    0,    0, ..., 4119,  396,  384],\n",
       "       [   0,    0,    0, ...,   36, 4838, 2901],\n",
       "       [   0,    0,    0, ...,  217,   49, 3780]])"
      ]
     },
     "execution_count": 53,
     "metadata": {},
     "output_type": "execute_result"
    }
   ],
   "source": [
    "tester = pad_sequences(list_tokenized_test, maxlen=MAX_TEXT_LENGTH)\n",
    "tester"
   ]
  },
  {
   "cell_type": "code",
   "execution_count": 54,
   "metadata": {},
   "outputs": [
    {
     "name": "stdout",
     "output_type": "stream",
     "text": [
      "4787/4787 [==============================] - 102s 21ms/step\n"
     ]
    }
   ],
   "source": [
    "test_predict = model.predict(tester)"
   ]
  },
  {
   "cell_type": "code",
   "execution_count": 55,
   "metadata": {},
   "outputs": [
    {
     "name": "stdout",
     "output_type": "stream",
     "text": [
      "Predicted values are [[1.13081075e-02 8.60916316e-06 1.27857365e-03 4.87625039e-05\n",
      "  1.38683966e-03 4.62963595e-04]\n",
      " [3.01300385e-03 2.03234740e-05 5.94534329e-04 1.91928077e-04\n",
      "  7.57309550e-04 4.91398852e-04]\n",
      " [5.17936144e-03 2.51471429e-05 1.13861985e-03 1.65254285e-04\n",
      "  1.26883865e-03 4.92100546e-04]\n",
      " ...\n",
      " [8.61127734e-01 9.25664678e-02 7.08711565e-01 8.04001242e-02\n",
      "  5.91000140e-01 2.09497526e-01]\n",
      " [2.49654040e-01 3.59590049e-04 7.35088363e-02 6.49845926e-04\n",
      "  4.10194546e-02 3.55376024e-03]\n",
      " [1.18638471e-01 3.59649886e-04 5.85377496e-03 4.47898731e-03\n",
      "  1.73517931e-02 2.10378822e-02]]\n"
     ]
    }
   ],
   "source": [
    "print(\"Predicted values are\",test_predict)"
   ]
  },
  {
   "cell_type": "code",
   "execution_count": 57,
   "metadata": {},
   "outputs": [
    {
     "data": {
      "text/html": [
       "<div>\n",
       "<style scoped>\n",
       "    .dataframe tbody tr th:only-of-type {\n",
       "        vertical-align: middle;\n",
       "    }\n",
       "\n",
       "    .dataframe tbody tr th {\n",
       "        vertical-align: top;\n",
       "    }\n",
       "\n",
       "    .dataframe thead th {\n",
       "        text-align: right;\n",
       "    }\n",
       "</style>\n",
       "<table border=\"1\" class=\"dataframe\">\n",
       "  <thead>\n",
       "    <tr style=\"text-align: right;\">\n",
       "      <th></th>\n",
       "      <th>id</th>\n",
       "      <th>toxic</th>\n",
       "      <th>severe_toxic</th>\n",
       "      <th>obscene</th>\n",
       "      <th>threat</th>\n",
       "      <th>insult</th>\n",
       "      <th>identity_hate</th>\n",
       "    </tr>\n",
       "  </thead>\n",
       "  <tbody>\n",
       "    <tr>\n",
       "      <th>0</th>\n",
       "      <td>00001cee341fdb12</td>\n",
       "      <td>0.011308</td>\n",
       "      <td>0.000009</td>\n",
       "      <td>0.001279</td>\n",
       "      <td>0.000049</td>\n",
       "      <td>0.001387</td>\n",
       "      <td>0.000463</td>\n",
       "    </tr>\n",
       "    <tr>\n",
       "      <th>1</th>\n",
       "      <td>0000247867823ef7</td>\n",
       "      <td>0.003013</td>\n",
       "      <td>0.000020</td>\n",
       "      <td>0.000595</td>\n",
       "      <td>0.000192</td>\n",
       "      <td>0.000757</td>\n",
       "      <td>0.000491</td>\n",
       "    </tr>\n",
       "    <tr>\n",
       "      <th>2</th>\n",
       "      <td>00013b17ad220c46</td>\n",
       "      <td>0.005179</td>\n",
       "      <td>0.000025</td>\n",
       "      <td>0.001139</td>\n",
       "      <td>0.000165</td>\n",
       "      <td>0.001269</td>\n",
       "      <td>0.000492</td>\n",
       "    </tr>\n",
       "    <tr>\n",
       "      <th>3</th>\n",
       "      <td>00017563c3f7919a</td>\n",
       "      <td>0.060057</td>\n",
       "      <td>0.000052</td>\n",
       "      <td>0.004471</td>\n",
       "      <td>0.000231</td>\n",
       "      <td>0.010639</td>\n",
       "      <td>0.001328</td>\n",
       "    </tr>\n",
       "    <tr>\n",
       "      <th>4</th>\n",
       "      <td>00017695ad8997eb</td>\n",
       "      <td>0.699901</td>\n",
       "      <td>0.002005</td>\n",
       "      <td>0.050375</td>\n",
       "      <td>0.003908</td>\n",
       "      <td>0.360571</td>\n",
       "      <td>0.006593</td>\n",
       "    </tr>\n",
       "  </tbody>\n",
       "</table>\n",
       "</div>"
      ],
      "text/plain": [
       "                 id     toxic  severe_toxic   obscene    threat    insult  \\\n",
       "0  00001cee341fdb12  0.011308      0.000009  0.001279  0.000049  0.001387   \n",
       "1  0000247867823ef7  0.003013      0.000020  0.000595  0.000192  0.000757   \n",
       "2  00013b17ad220c46  0.005179      0.000025  0.001139  0.000165  0.001269   \n",
       "3  00017563c3f7919a  0.060057      0.000052  0.004471  0.000231  0.010639   \n",
       "4  00017695ad8997eb  0.699901      0.002005  0.050375  0.003908  0.360571   \n",
       "\n",
       "   identity_hate  \n",
       "0       0.000463  \n",
       "1       0.000491  \n",
       "2       0.000492  \n",
       "3       0.001328  \n",
       "4       0.006593  "
      ]
     },
     "execution_count": 57,
     "metadata": {},
     "output_type": "execute_result"
    }
   ],
   "source": [
    "target_cols = np.array(CLASSES_LIST)\n",
    "final_predict_test = pd.concat([pd.DataFrame(test_predict,\n",
    "                                             columns=target_cols)], 1)\n",
    "t1 = test_df['id']\n",
    "final_predict_test = pd.concat([t1,final_predict_test],1)\n",
    "final_predict_test.head(5)"
   ]
  },
  {
   "cell_type": "code",
   "execution_count": null,
   "metadata": {},
   "outputs": [],
   "source": []
  }
 ],
 "metadata": {
  "kernelspec": {
   "display_name": "Python 3 (ipykernel)",
   "language": "python",
   "name": "python3"
  },
  "language_info": {
   "codemirror_mode": {
    "name": "ipython",
    "version": 3
   },
   "file_extension": ".py",
   "mimetype": "text/x-python",
   "name": "python",
   "nbconvert_exporter": "python",
   "pygments_lexer": "ipython3",
   "version": "3.9.13"
  }
 },
 "nbformat": 4,
 "nbformat_minor": 4
}
